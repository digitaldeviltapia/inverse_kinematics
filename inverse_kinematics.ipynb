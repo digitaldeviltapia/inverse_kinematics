{
  "cells": [
    {
      "cell_type": "markdown",
      "metadata": {
        "id": "1r8DE_TnD-gx"
      },
      "source": [
        "# Forward Kinematics\n",
        "Primero se crea la cinemática directa, en esta podemos variar los ángulos del robotito que hemos armado para ver cómo joint por joint se efectúa el movimiento. Básicamente funciona\n",
        "a partir de cómo definimos nuestra clase, inicializamos un robot (un brazo con una bifurcación y hacemos la visualización usando matplotlib)."
      ]
    },
    {
      "cell_type": "code",
      "execution_count": 1,
      "metadata": {
        "colab": {
          "base_uri": "https://localhost:8080/",
          "height": 472
        },
        "id": "3ntShxRND-g1",
        "outputId": "e17b4126-9149-42ef-a3f3-ea732d81638f"
      },
      "outputs": [
        {
          "data": {
            "image/png": "[encoded data removed]",
            "text/plain": [
              "<Figure size 640x480 with 1 Axes>"
            ]
          },
          "metadata": {},
          "output_type": "display_data"
        }
      ],
      "source": [
        "###DIRECTAAAAAAAAAAAA\n",
        "import numpy as np\n",
        "from numpy import sin, cos, pi\n",
        "import matplotlib.pyplot as plt\n",
        "\n",
        "# Definimos nuestra clase robot con límites de ángulo\n",
        "class robot:\n",
        "    def __init__(self, nombre, longitud, angulo=0, padre=None, angulo_min=0, angulo_max=pi):\n",
        "        self.nombre = nombre\n",
        "        self.longitud = longitud # Longitud del joint (esta longitud es la distancia entre el joint y el siguiente joint)\n",
        "        self.angulo = angulo # Ángulo del joint\n",
        "        self.padre = padre # Nodo padre\n",
        "        self.angulo_min = angulo_min  # Ángulo mínimo permitido\n",
        "        self.angulo_max = angulo_max  # Ángulo máximo permitido\n",
        "        self.punto_inicial = np.array([0, 0, 1])\n",
        "        self.punto_final = np.array([0, 0, 1])\n",
        "\n",
        "    def obtener_angulo_acumulado(self):\n",
        "        angulo_acumulado = self.angulo\n",
        "        nodo_actual = self.padre #se inicia en el nodo padre del brazo\n",
        "        while nodo_actual is not None: #se itera hasta quedarnos sin nodos\n",
        "            angulo_acumulado += nodo_actual.angulo\n",
        "            nodo_actual = nodo_actual.padre #se mueve al siguiente nodo padre para poder recorrer el brazo\n",
        "        return angulo_acumulado\n",
        "\n",
        "    def calcular_posicion(self):\n",
        "        if self.padre:\n",
        "            self.punto_inicial = self.padre.punto_final #aquí hace al nodo padre el punto inicial para poder calcular la posición\n",
        "        else:\n",
        "            self.punto_inicial = np.array([0, 0, 1])\n",
        "\n",
        "        angulo_acumulado = self.obtener_angulo_acumulado()\n",
        "        T_rotacion = matriz_rotacion(angulo_acumulado) #manda a llamar a la matriz de rotación para aplicarlo al ángulo acumulado\n",
        "\n",
        "        desplazamiento = np.array([self.longitud, 0, 1])\n",
        "        punto_final_homogeneo = T_rotacion @ desplazamiento\n",
        "        self.punto_final = self.punto_inicial[:2] + punto_final_homogeneo[:2]\n",
        "\n",
        "        return self.punto_final\n",
        "    #Funciones\n",
        "def matriz_rotacion(angulo):\n",
        "    return np.array([[cos(angulo), -sin(angulo), 0],\n",
        "                     [sin(angulo), cos(angulo), 0],\n",
        "                     [0, 0, 1]])\n",
        "\n",
        "    # Función para dibujar el robot en el plano con etiquetas y bifurcación\n",
        "def dibujar_robot(joints):\n",
        "    plt.figure()\n",
        "    # Dibujar el punto de origen\n",
        "    plt.plot(0, 0, 'bo')  # Dibuja el origen (punto azul)\n",
        "\n",
        "    for joint in joints:\n",
        "        joint.calcular_posicion()\n",
        "        # Dibuja una línea desde punto_inicial hasta punto_final\n",
        "        plt.plot([joint.punto_inicial[0], joint.punto_final[0]],\n",
        "                 [joint.punto_inicial[1], joint.punto_final[1]], 'ro-')\n",
        "\n",
        "        # Etiqueta del joint\n",
        "        plt.text(joint.punto_final[0], joint.punto_final[1], joint.nombre, fontsize=10, ha='right')\n",
        "\n",
        "    plt.xlabel(\"X\")\n",
        "    plt.ylabel(\"Y\")\n",
        "    plt.title(\"Robotito Forward Kinematics\")\n",
        "    plt.axis('equal')\n",
        "    plt.show()\n",
        "\n",
        "# Definición de los joints y objetivo\n",
        "art_padre = robot(\"art_padre\", 2, angulo=0)\n",
        "#brazo 1\n",
        "art_1 = robot(\"art_1\", 1, angulo=pi/2, padre=art_padre,  angulo_min = -pi, angulo_max = pi)\n",
        "art_2 = robot(\"art_2\", 0.6, angulo=-pi/4, padre=art_1, angulo_min = -2*pi/3, angulo_max = 2*pi/3)\n",
        "#brazo 2\n",
        "art_3 = robot(\"art_3\", 1, angulo=-pi/2, padre=art_padre,  angulo_min = -pi, angulo_max = pi)\n",
        "art_4 = robot(\"art_4\", 0.6, angulo=pi/4, padre=art_3,  angulo_min = -2*pi/3, angulo_max = 2*pi/3)\n",
        "\n",
        "joints = [art_padre, art_1, art_2, art_3, art_4]\n",
        "dibujar_robot(joints)\n",
        "    ##FIN DE LA DIRECTAAA\n"
      ]
    },
    {
      "cell_type": "markdown",
      "metadata": {
        "id": "-bTaEeRcD-g4"
      },
      "source": [
        "# Inverse Kinematics"
      ]
    },
    {
      "cell_type": "code",
      "execution_count": 2,
      "metadata": {
        "id": "fp5tFOfSD-g4"
      },
      "outputs": [],
      "source": [
        "### todo esto funciona exactamente igual al chunk de código anterior, la única diferencia es que se vuelve a definir la misma clase pero con la primer R en mayúscula\n",
        "# Definimos nuestra clase robot con límites de ángulo\n",
        "\n",
        "class Robot:\n",
        "    def __init__(self, nombre, longitud, angulo=0, padre=None, angulo_min=0, angulo_max=pi):\n",
        "        self.nombre = nombre\n",
        "        self.longitud = longitud\n",
        "        self.angulo = angulo\n",
        "        self.padre = padre\n",
        "        self.angulo_min = angulo_min  # Ángulo mínimo permitido\n",
        "        self.angulo_max = angulo_max  # Ángulo máximo permitido\n",
        "        self.punto_inicial = np.array([0, 0, 1])\n",
        "        self.punto_final = np.array([0, 0, 1])\n",
        "\n",
        "    def obtener_angulo_acumulado(self):\n",
        "        angulo_acumulado = self.angulo\n",
        "        nodo_actual = self.padre\n",
        "        while nodo_actual is not None:\n",
        "            angulo_acumulado += nodo_actual.angulo\n",
        "            nodo_actual = nodo_actual.padre\n",
        "        return angulo_acumulado\n",
        "\n",
        "    def calcular_posicion(self):\n",
        "        if self.padre:\n",
        "            self.punto_inicial = self.padre.punto_final\n",
        "        else:\n",
        "            self.punto_inicial = np.array([0, 0, 1])\n",
        "\n",
        "        angulo_acumulado = self.obtener_angulo_acumulado()\n",
        "        T_rotacion = matriz_rotacion(angulo_acumulado)\n",
        "\n",
        "        desplazamiento = np.array([self.longitud, 0, 1])\n",
        "        punto_final_homogeneo = T_rotacion @ desplazamiento\n",
        "        self.punto_final = self.punto_inicial[:2] + punto_final_homogeneo[:2]\n",
        "\n",
        "        return self.punto_final\n",
        "\n",
        "    #todo esto funciona exactamente igual al chunk de código anterior"
      ]
    },
    {
      "cell_type": "code",
      "execution_count": 3,
      "metadata": {},
      "outputs": [],
      "source": [
        "import imageio"
      ]
    },
    {
      "cell_type": "code",
      "execution_count": 6,
      "metadata": {
        "id": "Y-LVB_InD-g5"
      },
      "outputs": [],
      "source": [
        "\n",
        "#Funciones\n",
        "def matriz_rotacion(angulo):\n",
        "    return np.array([[cos(angulo), -sin(angulo), 0],\n",
        "                     [sin(angulo), cos(angulo), 0],\n",
        "                     [0, 0, 1]])\n",
        "\n",
        "def proyeccion_nulo_jacobiano(J, J_pseudo):\n",
        "    return np.eye(len(J_pseudo)) - J_pseudo @ J #tal y como en el artículo.\n",
        "\n",
        "def actualizar_articulaciones(joints, Delta_theta): #aquí simplemente se actualizan los ángulos de los joints con el delta_theta calculado anteriormente,\n",
        "    for i, joint in enumerate(joints):\n",
        "        nuevo_angulo = joint.angulo + Delta_theta[i]\n",
        "        # además usamos este if para simular que el joint tiene un límite en sus articulaciones\n",
        "        if nuevo_angulo < joint.angulo_min:\n",
        "            joint.angulo = joint.angulo_min\n",
        "        elif nuevo_angulo > joint.angulo_max:\n",
        "            joint.angulo = joint.angulo_max\n",
        "        else:\n",
        "            joint.angulo = nuevo_angulo\n",
        "# Dibujar el robot en el plano en cada iteración\n",
        "def dibujar_robot(joints, objetivo):\n",
        "    plt.clf()\n",
        "    plt.plot(0, 0, 'bo')  # Dibuja el origen (punto azul)\n",
        "    plt.plot(objetivo[0], objetivo[1], 'go', label='Objetivo')  # Dibuja el objetivo (punto verde)\n",
        "\n",
        "    for joint in joints:\n",
        "        joint.calcular_posicion()\n",
        "        plt.plot([joint.punto_inicial[0], joint.punto_final[0]],\n",
        "                 [joint.punto_inicial[1], joint.punto_final[1]], 'ro-')\n",
        "        plt.text(joint.punto_final[0], joint.punto_final[1], joint.nombre, fontsize=10, ha='right')\n",
        "\n",
        "    plt.xlabel(\"X\")\n",
        "    plt.ylabel(\"Y\")\n",
        "    plt.title(\"Movimiento del Robotito\")\n",
        "    plt.axis('equal')\n",
        "    plt.legend()\n",
        "    plt.pause(0.1)  # Pausar para visualizar el cambio en tiempo real\n",
        "\n",
        "\n",
        "\n",
        "#a partir de aquí se define la función cinemática inversa que manda a llamar diversas funciones\n",
        "def cinemática_inversa(joints, objetivo, gif_filename, tolerancia=0.01, max_iter=100):\n",
        "    plt.figure()\n",
        "\n",
        "    # Define los brazos como grupos de articulaciones incluyendo a art_padre para poder efectuar un movimiento por brazo (es decir en triadas de joints)\n",
        "    brazos = [(joints[0], joints[1], joints[2]), (joints[0], joints[3], joints[4])]\n",
        "\n",
        "    frames = []\n",
        "    \n",
        "    for iteracion in range(max_iter):\n",
        "        # Calcula la posición del end-effector de cada brazo completo y encuentra el más cercano al objetivo\n",
        "        distancias = []\n",
        "        posiciones_efectores = []\n",
        "        for brazo in brazos:\n",
        "            posicion = brazo[-1].calcular_posicion()[:2]  # Posición del end-effector\n",
        "            posiciones_efectores.append(posicion)\n",
        "            distancias.append(np.linalg.norm(objetivo - posicion))\n",
        "\n",
        "        # Selecciona el brazo más cercano al objetivo\n",
        "        indice_brazo_mas_cercano = np.argmin(distancias)\n",
        "        brazo_mas_cercano = brazos[indice_brazo_mas_cercano]\n",
        "        posicion_end_effector = posiciones_efectores[indice_brazo_mas_cercano]\n",
        "        print(f\"Posición del end-effector: {posicion_end_effector}\")\n",
        "        print(f\"Distancia al objetivo: {distancias[indice_brazo_mas_cercano]}\")\n",
        "        print(f\"El end-effector más cercano es el del brazo: {indice_brazo_mas_cercano}\")\n",
        "\n",
        "        # Calcula el error de posición para acercarse al objetivo\n",
        "        Delta_x = objetivo - posicion_end_effector\n",
        "        if np.linalg.norm(Delta_x) < tolerancia:\n",
        "            print(f\"Objetivo alcanzado en la iteración {iteracion}\")\n",
        "            break\n",
        "\n",
        "        # Construye el Jacobiano para el brazo más cercano\n",
        "        J_brazo = np.zeros((2, len(brazo_mas_cercano)))\n",
        "        for i, joint in enumerate(brazo_mas_cercano):\n",
        "            angulo_acumulado = joint.obtener_angulo_acumulado()\n",
        "            J_brazo[0, i] = -joint.longitud * np.sin(angulo_acumulado)\n",
        "            J_brazo[1, i] = joint.longitud * np.cos(angulo_acumulado)\n",
        "\n",
        "        # Calcula el cambio de ángulo (Delta_theta) con la pseudo-inversa\n",
        "        J_pseudo_brazo = np.linalg.pinv(J_brazo)  #usa la función pinv de numpy para calcular la pseudo inversa de la matriz J (se había calculado la pseudo inversa explícita como en el artículo, pero era más sencillo usar la de numpy)\n",
        "        #calculamos la proyección nula del Jacobiano\n",
        "        P_N_de_J = np.eye(len(J_pseudo_brazo)) - J_pseudo_brazo @ J_brazo #tal y como en el artículo.\n",
        "        #calculamos Delta_a (n-dimensional posture variation)\n",
        "        factor_postura = 0.1  # Factor de escala para reducir el efecto de la variación de postura\n",
        "\n",
        "        Delta_a = np.zeros(len(brazo_mas_cercano)) #este delta_A lo inicializamos a nuestra conveniencia, pues sin el factor postura el robot se volvía loco (además de que también corremos el codigo sin él)\n",
        "        for i, joint in enumerate(brazo_mas_cercano):\n",
        "            angulo_central = (joint.angulo_min + joint.angulo_max) / 2\n",
        "            Delta_a[i] = factor_postura * (angulo_central - joint.angulo)\n",
        "\n",
        "\n",
        "        Delta_theta = (J_pseudo_brazo @ Delta_x)  + (P_N_de_J @ Delta_a) #calculamos el cambio de ángulo con la fórmula del artículo\n",
        "\n",
        "        # Aplica el cambio de ángulo a las articulaciones del brazo completo (incluyendo art_padre)\n",
        "        actualizar_articulaciones(brazo_mas_cercano, Delta_theta)\n",
        "\n",
        "        # Visualiza el estado actual del robot en esta iteración\n",
        "        dibujar_robot(joints, objetivo)\n",
        "        \n",
        "        #guardamos el frame actual en memoria\n",
        "        fig = plt.gcf()\n",
        "        fig.canvas.draw()\n",
        "        w, h = fig.canvas.get_width_height()\n",
        "        buf = np.frombuffer(fig.canvas.buffer_rgba(), dtype=np.uint8)\n",
        "        frame = buf.reshape(h, w, 4)[:, :, :3]\n",
        "        frames.append(frame.copy())\n",
        "\n",
        "    plt.show()\n",
        "\n",
        "    if frames:\n",
        "        imageio.mimsave(gif_filename, frames, fps=10)  # 10 fps suele verse bien\n",
        "        print(f\"GIF guardado como: {gif_filename}\")\n",
        "    else:\n",
        "        print(\"No se generaron frames; revisa el bucle/condición de parada.\")\n"
      ]
    },
    {
      "cell_type": "code",
      "execution_count": 8,
      "metadata": {},
      "outputs": [],
      "source": [
        "\n",
        "#Funciones\n",
        "def matriz_rotacion(angulo):\n",
        "    return np.array([[cos(angulo), -sin(angulo), 0],\n",
        "                     [sin(angulo), cos(angulo), 0],\n",
        "                     [0, 0, 1]])\n",
        "\n",
        "def proyeccion_nulo_jacobiano(J, J_pseudo):\n",
        "    return np.eye(len(J_pseudo)) - J_pseudo @ J #tal y como en el artículo.\n",
        "\n",
        "def actualizar_articulaciones(joints, Delta_theta): #aquí simplemente se actualizan los ángulos de los joints con el delta_theta calculado anteriormente,\n",
        "    for i, joint in enumerate(joints):\n",
        "        nuevo_angulo = joint.angulo + Delta_theta[i]\n",
        "        # además usamos este if para simular que el joint tiene un límite en sus articulaciones\n",
        "        if nuevo_angulo < joint.angulo_min:\n",
        "            joint.angulo = joint.angulo_min\n",
        "        elif nuevo_angulo > joint.angulo_max:\n",
        "            joint.angulo = joint.angulo_max\n",
        "        else:\n",
        "            joint.angulo = nuevo_angulo\n",
        "# Dibujar el robot en el plano en cada iteración\n",
        "def dibujar_robot(joints, objetivo, ax):\n",
        "    ax.clear()\n",
        "    ax.plot(0, 0, 'bo')  # Dibuja el origen (punto azul)\n",
        "    ax.plot(objetivo[0], objetivo[1], 'go', label='Objetivo')  # Dibuja el objetivo (punto verde)\n",
        "\n",
        "    for joint in joints:\n",
        "        joint.calcular_posicion()\n",
        "        ax.plot([joint.punto_inicial[0], joint.punto_final[0]],\n",
        "                 [joint.punto_inicial[1], joint.punto_final[1]], 'ro-')\n",
        "        ax.text(joint.punto_final[0], joint.punto_final[1], joint.nombre, fontsize=10, ha='right')\n",
        "\n",
        "    ax.set_xlabel(\"X\")\n",
        "    ax.set_ylabel(\"Y\")\n",
        "    ax.set_title(\"Movimiento del Robotito\")\n",
        "    ax.axis('equal')\n",
        "    ax.legend()\n",
        "    #plt.pause(0.1)  # Pausar para visualizar el cambio en tiempo real\n",
        "\n",
        "\n",
        "\n",
        "#a partir de aquí se define la función cinemática inversa que manda a llamar diversas funciones\n",
        "def cinemática_inversa(joints, objetivo, gif_filename, tolerancia=0.01, max_iter=100):\n",
        "    fig, ax = plt.subplots(figsize=(6, 6))\n",
        "    #estimamos un rango fijo de visualización\n",
        "    L = 0.0\n",
        "    for j in joints:\n",
        "        L += getattr(j, \"longitud\", 0.0)\n",
        "    R = max(1.0, L*0.6)\n",
        "    ax.set_xlim(-R, R)\n",
        "    ax.set_ylim(-R, R)\n",
        "\n",
        "    # Define los brazos como grupos de articulaciones incluyendo a art_padre para poder efectuar un movimiento por brazo (es decir en triadas de joints)\n",
        "    brazos = [(joints[0], joints[1], joints[2]), \n",
        "              (joints[0], joints[3], joints[4])]\n",
        "\n",
        "    frames = []\n",
        "    \n",
        "    for iteracion in range(max_iter):\n",
        "        # Calcula la posición del end-effector de cada brazo completo y encuentra el más cercano al objetivo\n",
        "        distancias = []\n",
        "        posiciones_efectores = []\n",
        "        for brazo in brazos:\n",
        "            posicion = brazo[-1].calcular_posicion()[:2]  # Posición del end-effector\n",
        "            posiciones_efectores.append(posicion)\n",
        "            distancias.append(np.linalg.norm(objetivo - posicion))\n",
        "\n",
        "        # Selecciona el brazo más cercano al objetivo\n",
        "        idx = int(np.argmin(distancias))\n",
        "        brazo_mas_cercano = brazos[idx]\n",
        "        posicion_end_effector = posiciones_efectores[idx]\n",
        "        print(f\"Posición del end-effector: {posicion_end_effector}\")\n",
        "        print(f\"Distancia al objetivo: {distancias[idx]}\")\n",
        "        print(f\"El end-effector más cercano es el del brazo: {idx}\")\n",
        "\n",
        "        # Calcula el error de posición para acercarse al objetivo\n",
        "        Delta_x = objetivo - posicion_end_effector\n",
        "        if np.linalg.norm(Delta_x) < tolerancia:\n",
        "            print(f\"Objetivo alcanzado en la iteración {iteracion}\")\n",
        "            #aun dibujamos el estado final\n",
        "            dibujar_robot(joints, objetivo, ax=ax)\n",
        "            fig.canvas.draw()\n",
        "            w, h = fig.canvas.get_width_height()\n",
        "            buf = np.frombuffer(fig.canvas.buffer_rgba(), dtype=np.uint8)\n",
        "            frame = buf.reshape(h, w, 4)[:, :, :3]\n",
        "            frames.append(frame.copy())\n",
        "            break\n",
        "\n",
        "        # Construye el Jacobiano para el brazo más cercano\n",
        "        J_brazo = np.zeros((2, len(brazo_mas_cercano)))\n",
        "        for i, joint in enumerate(brazo_mas_cercano):\n",
        "            angulo_acumulado = joint.obtener_angulo_acumulado()\n",
        "            J_brazo[0, i] = -joint.longitud * np.sin(angulo_acumulado)\n",
        "            J_brazo[1, i] = joint.longitud * np.cos(angulo_acumulado)\n",
        "\n",
        "        # Calcula el cambio de ángulo (Delta_theta) con la pseudo-inversa\n",
        "        J_pseudo_brazo = np.linalg.pinv(J_brazo)  #usa la función pinv de numpy para calcular la pseudo inversa de la matriz J (se había calculado la pseudo inversa explícita como en el artículo, pero era más sencillo usar la de numpy)\n",
        "        #calculamos la proyección nula del Jacobiano\n",
        "        P_N_de_J = np.eye(len(J_pseudo_brazo)) - J_pseudo_brazo @ J_brazo #tal y como en el artículo.\n",
        "        #calculamos Delta_a (n-dimensional posture variation)\n",
        "        factor_postura = 0.1  # Factor de escala para reducir el efecto de la variación de postura\n",
        "\n",
        "        Delta_a = np.zeros(len(brazo_mas_cercano)) #este delta_A lo inicializamos a nuestra conveniencia, pues sin el factor postura el robot se volvía loco (además de que también corremos el codigo sin él)\n",
        "        for i, joint in enumerate(brazo_mas_cercano):\n",
        "            angulo_central = (joint.angulo_min + joint.angulo_max) / 2\n",
        "            Delta_a[i] = factor_postura * (angulo_central - joint.angulo)\n",
        "\n",
        "\n",
        "        Delta_theta = (J_pseudo_brazo @ Delta_x)  + (P_N_de_J @ Delta_a) #calculamos el cambio de ángulo con la fórmula del artículo\n",
        "\n",
        "        # Aplica el cambio de ángulo a las articulaciones del brazo completo (incluyendo art_padre)\n",
        "        actualizar_articulaciones(brazo_mas_cercano, Delta_theta)\n",
        "\n",
        "        # Visualiza el estado actual del robot en esta iteración\n",
        "        dibujar_robot(joints, objetivo, ax=ax)\n",
        "        \n",
        "        ax.set_xlim(-R, R)\n",
        "        ax.set_ylim(-R, R)\n",
        "        \n",
        "        #guardamos el frame actual en memoria\n",
        "        fig.canvas.draw()\n",
        "        w, h = fig.canvas.get_width_height()\n",
        "        buf = np.frombuffer(fig.canvas.buffer_rgba(), dtype=np.uint8)\n",
        "        frame = buf.reshape(h, w, 4)[:, :, :3]\n",
        "        frames.append(frame.copy())\n",
        "\n",
        "    plt.show()\n",
        "\n",
        "    if frames:\n",
        "        imageio.mimsave(gif_filename, frames, fps=10)  # 10 fps suele verse bien\n",
        "        print(f\"GIF guardado como: {gif_filename}\")\n",
        "    else:\n",
        "        print(\"No se generaron frames; revisa el bucle/condición de parada.\")\n"
      ]
    },
    {
      "cell_type": "markdown",
      "metadata": {
        "id": "PqhlDuKyD-g6"
      },
      "source": [
        "##prueba 1"
      ]
    },
    {
      "cell_type": "code",
      "execution_count": 9,
      "metadata": {
        "colab": {
          "base_uri": "https://localhost:8080/",
          "height": 1000
        },
        "id": "5rNltiMlD-g7",
        "outputId": "a71f01b1-aaac-4e37-8acf-8edd5e5d8203"
      },
      "outputs": [
        {
          "name": "stderr",
          "output_type": "stream",
          "text": [
            "Ignoring fixed y limits to fulfill fixed data aspect with adjustable data limits.\n",
            "Ignoring fixed y limits to fulfill fixed data aspect with adjustable data limits.\n",
            "Ignoring fixed y limits to fulfill fixed data aspect with adjustable data limits.\n",
            "Ignoring fixed y limits to fulfill fixed data aspect with adjustable data limits.\n"
          ]
        },
        {
          "name": "stdout",
          "output_type": "stream",
          "text": [
            "Posición del end-effector: [0.42426407 0.42426407]\n",
            "Distancia al objetivo: 1.9079181111925376\n",
            "El end-effector más cercano es el del brazo: 0\n",
            "Posición del end-effector: [2.9133302  1.61940648]\n",
            "Distancia al objetivo: 0.921102584181724\n",
            "El end-effector más cercano es el del brazo: 0\n",
            "Posición del end-effector: [1.95503606 2.10344405]\n",
            "Distancia al objetivo: 0.6051169163489006\n",
            "El end-effector más cercano es el del brazo: 0\n",
            "Posición del end-effector: [2.36926148 1.55839049]\n",
            "Distancia al objetivo: 0.3738495571400053\n",
            "El end-effector más cercano es el del brazo: 0\n"
          ]
        },
        {
          "name": "stderr",
          "output_type": "stream",
          "text": [
            "Ignoring fixed y limits to fulfill fixed data aspect with adjustable data limits.\n",
            "Ignoring fixed y limits to fulfill fixed data aspect with adjustable data limits.\n",
            "Ignoring fixed y limits to fulfill fixed data aspect with adjustable data limits.\n"
          ]
        },
        {
          "name": "stdout",
          "output_type": "stream",
          "text": [
            "Posición del end-effector: [2.15217254 1.67637046]\n",
            "Distancia al objetivo: 0.23294424111918868\n",
            "El end-effector más cercano es el del brazo: 0\n",
            "Posición del end-effector: [2.09002889 1.59046235]\n",
            "Distancia al objetivo: 0.12762694994481932\n",
            "El end-effector más cercano es el del brazo: 0\n",
            "Posición del end-effector: [2.04230459 1.5684496 ]\n",
            "Distancia al objetivo: 0.08046754767259923\n",
            "El end-effector más cercano es el del brazo: 0\n",
            "Posición del end-effector: [2.03681498 1.5402944 ]\n",
            "Distancia al objetivo: 0.0545800460424221\n",
            "El end-effector más cercano es el del brazo: 0\n"
          ]
        },
        {
          "name": "stderr",
          "output_type": "stream",
          "text": [
            "Ignoring fixed y limits to fulfill fixed data aspect with adjustable data limits.\n",
            "Ignoring fixed y limits to fulfill fixed data aspect with adjustable data limits.\n",
            "Ignoring fixed y limits to fulfill fixed data aspect with adjustable data limits.\n",
            "Ignoring fixed y limits to fulfill fixed data aspect with adjustable data limits.\n",
            "Ignoring fixed y limits to fulfill fixed data aspect with adjustable data limits.\n",
            "Ignoring fixed y limits to fulfill fixed data aspect with adjustable data limits.\n"
          ]
        },
        {
          "name": "stdout",
          "output_type": "stream",
          "text": [
            "Posición del end-effector: [2.0308719  1.52685984]\n",
            "Distancia al objetivo: 0.04092095870316546\n",
            "El end-effector más cercano es el del brazo: 0\n",
            "Posición del end-effector: [2.03474149 1.51326783]\n",
            "Distancia al objetivo: 0.03718879955567721\n",
            "El end-effector más cercano es el del brazo: 0\n",
            "Posición del end-effector: [2.03549322 1.50553198]\n",
            "Distancia al objetivo: 0.03592173767160536\n",
            "El end-effector más cercano es el del brazo: 0\n",
            "Posición del end-effector: [2.03975876 1.49798867]\n",
            "Distancia al objetivo: 0.03980959752409162\n",
            "El end-effector más cercano es el del brazo: 0\n",
            "Posición del end-effector: [2.04016454 1.49404728]\n",
            "Distancia al objetivo: 0.040603264057248296\n",
            "El end-effector más cercano es el del brazo: 0\n"
          ]
        },
        {
          "name": "stderr",
          "output_type": "stream",
          "text": [
            "Ignoring fixed y limits to fulfill fixed data aspect with adjustable data limits.\n",
            "Ignoring fixed y limits to fulfill fixed data aspect with adjustable data limits.\n",
            "Ignoring fixed y limits to fulfill fixed data aspect with adjustable data limits.\n",
            "Ignoring fixed y limits to fulfill fixed data aspect with adjustable data limits.\n"
          ]
        },
        {
          "name": "stdout",
          "output_type": "stream",
          "text": [
            "Posición del end-effector: [2.04217706 1.49044775]\n",
            "Distancia al objetivo: 0.043245233446741596\n",
            "El end-effector más cercano es el del brazo: 0\n",
            "Posición del end-effector: [2.04076111 1.48918945]\n",
            "Distancia al objetivo: 0.042170322158019344\n",
            "El end-effector más cercano es el del brazo: 0\n",
            "Posición del end-effector: [2.04030826 1.48825125]\n",
            "Distancia al objetivo: 0.04198557681615869\n",
            "El end-effector más cercano es el del brazo: 0\n",
            "Posición del end-effector: [2.02248218 1.5090024 ]\n",
            "Distancia al objetivo: 0.024217584647082603\n",
            "El end-effector más cercano es el del brazo: 0\n"
          ]
        },
        {
          "name": "stderr",
          "output_type": "stream",
          "text": [
            "Ignoring fixed y limits to fulfill fixed data aspect with adjustable data limits.\n",
            "Ignoring fixed y limits to fulfill fixed data aspect with adjustable data limits.\n",
            "Ignoring fixed y limits to fulfill fixed data aspect with adjustable data limits.\n",
            "Ignoring fixed y limits to fulfill fixed data aspect with adjustable data limits.\n"
          ]
        },
        {
          "name": "stdout",
          "output_type": "stream",
          "text": [
            "Posición del end-effector: [2.02074767 1.53569641]\n",
            "Distancia al objetivo: 0.04128800724887824\n",
            "El end-effector más cercano es el del brazo: 0\n",
            "Posición del end-effector: [2.02120039 1.55651252]\n",
            "Distancia al objetivo: 0.060358273683728605\n",
            "El end-effector más cercano es el del brazo: 0\n",
            "Posición del end-effector: [2.02040637 1.57255449]\n",
            "Distancia al objetivo: 0.07536958147038797\n",
            "El end-effector más cercano es el del brazo: 0\n",
            "Posición del end-effector: [2.02006487 1.58437705]\n",
            "Distancia al objetivo: 0.08672995487236328\n",
            "El end-effector más cercano es el del brazo: 0\n",
            "Posición del end-effector: [2.01939365 1.59256194]\n",
            "Distancia al objetivo: 0.09457180533378902\n",
            "El end-effector más cercano es el del brazo: 0\n"
          ]
        },
        {
          "name": "stderr",
          "output_type": "stream",
          "text": [
            "Ignoring fixed y limits to fulfill fixed data aspect with adjustable data limits.\n",
            "Ignoring fixed y limits to fulfill fixed data aspect with adjustable data limits.\n",
            "Ignoring fixed y limits to fulfill fixed data aspect with adjustable data limits.\n",
            "Ignoring fixed y limits to fulfill fixed data aspect with adjustable data limits.\n",
            "Ignoring fixed y limits to fulfill fixed data aspect with adjustable data limits.\n",
            "Ignoring fixed y limits to fulfill fixed data aspect with adjustable data limits.\n"
          ]
        },
        {
          "name": "stdout",
          "output_type": "stream",
          "text": [
            "Posición del end-effector: [2.01877199 1.5975459 ]\n",
            "Distancia al objetivo: 0.09933574533287991\n",
            "El end-effector más cercano es el del brazo: 0\n",
            "Posición del end-effector: [2.01803018 1.59973059]\n",
            "Distancia al objetivo: 0.10134731675715106\n",
            "El end-effector más cercano es el del brazo: 0\n",
            "Posición del end-effector: [2.01725125 1.5994723 ]\n",
            "Distancia al objetivo: 0.10095714055527878\n",
            "El end-effector más cercano es el del brazo: 0\n",
            "Posición del end-effector: [2.01640404 1.59710557]\n",
            "Distancia al objetivo: 0.09848139406555055\n",
            "El end-effector más cercano es el del brazo: 0\n",
            "Posición del end-effector: [2.01551196 1.59294799]\n",
            "Distancia al objetivo: 0.09423348418198296\n",
            "El end-effector más cercano es el del brazo: 0\n"
          ]
        },
        {
          "name": "stderr",
          "output_type": "stream",
          "text": [
            "Ignoring fixed y limits to fulfill fixed data aspect with adjustable data limits.\n",
            "Ignoring fixed y limits to fulfill fixed data aspect with adjustable data limits.\n",
            "Ignoring fixed y limits to fulfill fixed data aspect with adjustable data limits.\n",
            "Ignoring fixed y limits to fulfill fixed data aspect with adjustable data limits.\n",
            "Ignoring fixed y limits to fulfill fixed data aspect with adjustable data limits.\n"
          ]
        },
        {
          "name": "stdout",
          "output_type": "stream",
          "text": [
            "Posición del end-effector: [2.0145774  1.58730454]\n",
            "Distancia al objetivo: 0.08851318317048634\n",
            "El end-effector más cercano es el del brazo: 0\n",
            "Posición del end-effector: [2.0136152  1.58046797]\n",
            "Distancia al objetivo: 0.08161169183755634\n",
            "El end-effector más cercano es el del brazo: 0\n",
            "Posición del end-effector: [2.01263716 1.57271669]\n",
            "Distancia al objetivo: 0.07380660003816493\n",
            "El end-effector más cercano es el del brazo: 0\n",
            "Posición del end-effector: [2.01165773 1.56431153]\n",
            "Distancia al objetivo: 0.06535958415219194\n",
            "El end-effector más cercano es el del brazo: 0\n",
            "Posición del end-effector: [2.01069033 1.5554919 ]\n",
            "Distancia al objetivo: 0.05651225272217892\n",
            "El end-effector más cercano es el del brazo: 0\n"
          ]
        },
        {
          "name": "stderr",
          "output_type": "stream",
          "text": [
            "Ignoring fixed y limits to fulfill fixed data aspect with adjustable data limits.\n",
            "Ignoring fixed y limits to fulfill fixed data aspect with adjustable data limits.\n",
            "Ignoring fixed y limits to fulfill fixed data aspect with adjustable data limits.\n",
            "Ignoring fixed y limits to fulfill fixed data aspect with adjustable data limits.\n"
          ]
        },
        {
          "name": "stdout",
          "output_type": "stream",
          "text": [
            "Posición del end-effector: [2.00974777 1.54647228]\n",
            "Distancia al objetivo: 0.04748359303125017\n",
            "El end-effector más cercano es el del brazo: 0\n",
            "Posición del end-effector: [2.00884105 1.53743942]\n",
            "Distancia al objetivo: 0.03846913704341253\n",
            "El end-effector más cercano es el del brazo: 0\n",
            "Posición del end-effector: [2.00797922 1.52855087]\n",
            "Distancia al objetivo: 0.029644902900236497\n",
            "El end-effector más cercano es el del brazo: 0\n",
            "Posición del end-effector: [2.00716902 1.51993465]\n",
            "Distancia al objetivo: 0.021184551892336756\n",
            "El end-effector más cercano es el del brazo: 0\n",
            "Posición del end-effector: [2.00641495 1.51169023]\n",
            "Distancia al objetivo: 0.013334651689668001\n",
            "El end-effector más cercano es el del brazo: 0\n"
          ]
        },
        {
          "name": "stderr",
          "output_type": "stream",
          "text": [
            "Ignoring fixed y limits to fulfill fixed data aspect with adjustable data limits.\n"
          ]
        },
        {
          "name": "stdout",
          "output_type": "stream",
          "text": [
            "Posición del end-effector: [2.00571941 1.50389046]\n",
            "Distancia al objetivo: 0.006917173358024914\n",
            "El end-effector más cercano es el del brazo: 0\n",
            "Objetivo alcanzado en la iteración 37\n"
          ]
        },
        {
          "data": {
            "image/png": "[encoded data removed]",
            "text/plain": [
              "<Figure size 600x600 with 1 Axes>"
            ]
          },
          "metadata": {},
          "output_type": "display_data"
        },
        {
          "name": "stdout",
          "output_type": "stream",
          "text": [
            "GIF guardado como: animacion_robot.gif\n"
          ]
        }
      ],
      "source": [
        "# Definición de los joints y objetivo\n",
        "art_padre = Robot(\"art_padre\", 2, angulo=0)\n",
        "#brazo 1\n",
        "art_1 = Robot(\"art_1\", 1, angulo=pi/2, padre=art_padre,  angulo_min = -pi, angulo_max = pi)\n",
        "art_2 = Robot(\"hola\", 0.6, angulo=-pi/4, padre=art_1, angulo_min = -2*pi/3, angulo_max = 2*pi/3)\n",
        "#brazo 2\n",
        "art_3 = Robot(\"art_3\", 1, angulo=-pi/2, padre=art_padre,  angulo_min = -pi, angulo_max = pi)\n",
        "art_4 = Robot(\"art_4\", 0.6, angulo=pi/4, padre=art_3,  angulo_min = -2*pi/3, angulo_max = 2*pi/3)\n",
        "\n",
        "joints = [art_padre, art_1, art_2, art_3, art_4]\n",
        "objetivo = np.array([2, 1.5])  # Define el objetivo deseado\n",
        "\n",
        "# Ejecutar la cinemática inversa con visualización en cada iteración\n",
        "cinemática_inversa(joints, objetivo, gif_filename=\"animacion_robot.gif\")"
      ]
    },
    {
      "cell_type": "markdown",
      "metadata": {
        "id": "fSDI86rOD-g7"
      },
      "source": [
        "##prueba 2"
      ]
    },
    {
      "cell_type": "code",
      "execution_count": 10,
      "metadata": {
        "colab": {
          "base_uri": "https://localhost:8080/",
          "height": 1000
        },
        "id": "touTfsVdD-g8",
        "outputId": "26c6e38c-afc9-4a0f-f854-2aa87b7aa294"
      },
      "outputs": [
        {
          "name": "stderr",
          "output_type": "stream",
          "text": [
            "Ignoring fixed y limits to fulfill fixed data aspect with adjustable data limits.\n",
            "Ignoring fixed y limits to fulfill fixed data aspect with adjustable data limits.\n",
            "Ignoring fixed y limits to fulfill fixed data aspect with adjustable data limits.\n",
            "Ignoring fixed y limits to fulfill fixed data aspect with adjustable data limits.\n"
          ]
        },
        {
          "name": "stdout",
          "output_type": "stream",
          "text": [
            "Posición del end-effector: [0.42426407 0.42426407]\n",
            "Distancia al objetivo: 2.22842712474619\n",
            "El end-effector más cercano es el del brazo: 0\n",
            "Posición del end-effector: [2.46038806 2.27231065]\n",
            "Distancia al objetivo: 0.5348927481430971\n",
            "El end-effector más cercano es el del brazo: 0\n",
            "Posición del end-effector: [1.81036484 2.24132011]\n",
            "Distancia al objetivo: 0.3069151182416799\n",
            "El end-effector más cercano es el del brazo: 0\n",
            "Posición del end-effector: [2.12855617 1.91549602]\n",
            "Distancia al objetivo: 0.15384281267250136\n",
            "El end-effector más cercano es el del brazo: 0\n",
            "Posición del end-effector: [2.01206741 2.05650086]\n",
            "Distancia al objetivo: 0.05777516576182474\n",
            "El end-effector más cercano es el del brazo: 0\n"
          ]
        },
        {
          "name": "stderr",
          "output_type": "stream",
          "text": [
            "Ignoring fixed y limits to fulfill fixed data aspect with adjustable data limits.\n",
            "Ignoring fixed y limits to fulfill fixed data aspect with adjustable data limits.\n",
            "Ignoring fixed y limits to fulfill fixed data aspect with adjustable data limits.\n",
            "Ignoring fixed y limits to fulfill fixed data aspect with adjustable data limits.\n",
            "Ignoring fixed y limits to fulfill fixed data aspect with adjustable data limits.\n"
          ]
        },
        {
          "name": "stdout",
          "output_type": "stream",
          "text": [
            "Posición del end-effector: [2.05956462 2.00334436]\n",
            "Distancia al objetivo: 0.059658429267564\n",
            "El end-effector más cercano es el del brazo: 0\n",
            "Posición del end-effector: [2.04164306 2.02979355]\n",
            "Distancia al objetivo: 0.05120351810970981\n",
            "El end-effector más cercano es el del brazo: 0\n",
            "Posición del end-effector: [2.04968036 2.0255637 ]\n",
            "Distancia al objetivo: 0.05587164736755159\n",
            "El end-effector más cercano es el del brazo: 0\n",
            "Posición del end-effector: [2.04512207 2.032727  ]\n",
            "Distancia al objetivo: 0.05574098294556865\n",
            "El end-effector más cercano es el del brazo: 0\n"
          ]
        },
        {
          "name": "stderr",
          "output_type": "stream",
          "text": [
            "Ignoring fixed y limits to fulfill fixed data aspect with adjustable data limits.\n",
            "Ignoring fixed y limits to fulfill fixed data aspect with adjustable data limits.\n",
            "Ignoring fixed y limits to fulfill fixed data aspect with adjustable data limits.\n",
            "Ignoring fixed y limits to fulfill fixed data aspect with adjustable data limits.\n",
            "Ignoring fixed y limits to fulfill fixed data aspect with adjustable data limits.\n"
          ]
        },
        {
          "name": "stdout",
          "output_type": "stream",
          "text": [
            "Posición del end-effector: [2.04371554 2.03427918]\n",
            "Distancia al objetivo: 0.05555277218789422\n",
            "El end-effector más cercano es el del brazo: 0\n",
            "Posición del end-effector: [2.03959813 2.03616914]\n",
            "Distancia al objetivo: 0.05363038870419701\n",
            "El end-effector más cercano es el del brazo: 0\n",
            "Posición del end-effector: [2.03594221 2.03563633]\n",
            "Distancia al objetivo: 0.0506141356272859\n",
            "El end-effector más cercano es el del brazo: 0\n",
            "Posición del end-effector: [2.03222302 2.03361982]\n",
            "Distancia al objetivo: 0.04656839415464012\n",
            "El end-effector más cercano es el del brazo: 0\n",
            "Posición del end-effector: [2.02944093 2.02981587]\n",
            "Distancia al objetivo: 0.04190172498469712\n",
            "El end-effector más cercano es el del brazo: 0\n"
          ]
        },
        {
          "name": "stderr",
          "output_type": "stream",
          "text": [
            "Ignoring fixed y limits to fulfill fixed data aspect with adjustable data limits.\n",
            "Ignoring fixed y limits to fulfill fixed data aspect with adjustable data limits.\n",
            "Ignoring fixed y limits to fulfill fixed data aspect with adjustable data limits.\n",
            "Ignoring fixed y limits to fulfill fixed data aspect with adjustable data limits.\n",
            "Ignoring fixed y limits to fulfill fixed data aspect with adjustable data limits.\n"
          ]
        },
        {
          "name": "stdout",
          "output_type": "stream",
          "text": [
            "Posición del end-effector: [2.02766686 2.02476251]\n",
            "Distancia al objetivo: 0.03712999944526079\n",
            "El end-effector más cercano es el del brazo: 0\n",
            "Posición del end-effector: [2.02708985 2.01887553]\n",
            "Distancia al objetivo: 0.03301735911159139\n",
            "El end-effector más cercano es el del brazo: 0\n",
            "Posición del end-effector: [2.02743563 2.01281091]\n",
            "Distancia al objetivo: 0.03027925364964942\n",
            "El end-effector más cercano es el del brazo: 0\n",
            "Posición del end-effector: [2.02837891 2.00709625]\n",
            "Distancia al objetivo: 0.029252684236594582\n",
            "El end-effector más cercano es el del brazo: 0\n",
            "Posición del end-effector: [2.02947274 2.00215849]\n",
            "Distancia al objetivo: 0.029551672922046593\n",
            "El end-effector más cercano es el del brazo: 0\n"
          ]
        },
        {
          "name": "stderr",
          "output_type": "stream",
          "text": [
            "Ignoring fixed y limits to fulfill fixed data aspect with adjustable data limits.\n",
            "Ignoring fixed y limits to fulfill fixed data aspect with adjustable data limits.\n",
            "Ignoring fixed y limits to fulfill fixed data aspect with adjustable data limits.\n",
            "Ignoring fixed y limits to fulfill fixed data aspect with adjustable data limits.\n",
            "Ignoring fixed y limits to fulfill fixed data aspect with adjustable data limits.\n"
          ]
        },
        {
          "name": "stdout",
          "output_type": "stream",
          "text": [
            "Posición del end-effector: [2.03039621 1.9981975 ]\n",
            "Distancia al objetivo: 0.030449611329264287\n",
            "El end-effector más cercano es el del brazo: 0\n",
            "Posición del end-effector: [2.03090554 1.99526842]\n",
            "Distancia al objetivo: 0.03126563936249609\n",
            "El end-effector más cercano es el del brazo: 0\n",
            "Posición del end-effector: [2.03090993 1.99329635]\n",
            "Distancia al objetivo: 0.031628512178144996\n",
            "El end-effector más cercano es el del brazo: 0\n",
            "Posición del end-effector: [2.03038882 1.99215667]\n",
            "Distancia al objetivo: 0.03138468451948938\n",
            "El end-effector más cercano es el del brazo: 0\n",
            "Posición del end-effector: [2.02940536 1.99169333]\n",
            "Distancia al objetivo: 0.030556110477476323\n",
            "El end-effector más cercano es el del brazo: 0\n"
          ]
        },
        {
          "name": "stderr",
          "output_type": "stream",
          "text": [
            "Ignoring fixed y limits to fulfill fixed data aspect with adjustable data limits.\n",
            "Ignoring fixed y limits to fulfill fixed data aspect with adjustable data limits.\n",
            "Ignoring fixed y limits to fulfill fixed data aspect with adjustable data limits.\n",
            "Ignoring fixed y limits to fulfill fixed data aspect with adjustable data limits.\n",
            "Ignoring fixed y limits to fulfill fixed data aspect with adjustable data limits.\n"
          ]
        },
        {
          "name": "stdout",
          "output_type": "stream",
          "text": [
            "Posición del end-effector: [2.02804276 1.99175613]\n",
            "Distancia al objetivo: 0.02922940355498849\n",
            "El end-effector más cercano es el del brazo: 0\n",
            "Posición del end-effector: [2.02640823 1.99220395]\n",
            "Distancia al objetivo: 0.027534945030757145\n",
            "El end-effector más cercano es el del brazo: 0\n",
            "Posición del end-effector: [2.02459823 1.99291702]\n",
            "Distancia al objetivo: 0.02559768178530644\n",
            "El end-effector más cercano es el del brazo: 0\n",
            "Posición del end-effector: [2.02270302 1.9937949 ]\n",
            "Distancia al objetivo: 0.02353572587045203\n",
            "El end-effector más cercano es el del brazo: 0\n",
            "Posición del end-effector: [2.02079311 1.99475849]\n",
            "Distancia al objetivo: 0.02144356891716744\n",
            "El end-effector más cercano es el del brazo: 0\n"
          ]
        },
        {
          "name": "stderr",
          "output_type": "stream",
          "text": [
            "Ignoring fixed y limits to fulfill fixed data aspect with adjustable data limits.\n",
            "Ignoring fixed y limits to fulfill fixed data aspect with adjustable data limits.\n",
            "Ignoring fixed y limits to fulfill fixed data aspect with adjustable data limits.\n"
          ]
        },
        {
          "name": "stdout",
          "output_type": "stream",
          "text": [
            "Posición del end-effector: [2.0189244  1.99574702]\n",
            "Distancia al objetivo: 0.019396414286036365\n",
            "El end-effector más cercano es el del brazo: 0\n",
            "Posición del end-effector: [2.01713569 1.99671623]\n",
            "Distancia al objetivo: 0.01744749011527844\n",
            "El end-effector más cercano es el del brazo: 0\n",
            "Posición del end-effector: [2.01545308 1.99763542]\n",
            "Distancia al objetivo: 0.015632947960252788\n",
            "El end-effector más cercano es el del brazo: 0\n",
            "Posición del end-effector: [2.01389146 1.99848488]\n",
            "Distancia al objetivo: 0.013973839279727849\n",
            "El end-effector más cercano es el del brazo: 0\n"
          ]
        },
        {
          "name": "stderr",
          "output_type": "stream",
          "text": [
            "Ignoring fixed y limits to fulfill fixed data aspect with adjustable data limits.\n",
            "Ignoring fixed y limits to fulfill fixed data aspect with adjustable data limits.\n",
            "Ignoring fixed y limits to fulfill fixed data aspect with adjustable data limits.\n"
          ]
        },
        {
          "name": "stdout",
          "output_type": "stream",
          "text": [
            "Posición del end-effector: [2.01245758 1.99925337]\n",
            "Distancia al objetivo: 0.012479934600127095\n",
            "El end-effector más cercano es el del brazo: 0\n",
            "Posición del end-effector: [2.01115207 1.99993605]\n",
            "Distancia al objetivo: 0.011152250834982745\n",
            "El end-effector más cercano es el del brazo: 0\n",
            "Posición del end-effector: [2.00997136 2.00053264]\n",
            "Distancia al objetivo: 0.009985575014467125\n",
            "El end-effector más cercano es el del brazo: 0\n",
            "Objetivo alcanzado en la iteración 35\n"
          ]
        },
        {
          "data": {
            "image/png": "[encoded data removed]",
            "text/plain": [
              "<Figure size 600x600 with 1 Axes>"
            ]
          },
          "metadata": {},
          "output_type": "display_data"
        },
        {
          "name": "stdout",
          "output_type": "stream",
          "text": [
            "GIF guardado como: animacion_robot2.gif\n"
          ]
        }
      ],
      "source": [
        "# Definición de los joints y objetivo\n",
        "art_padre = Robot(\"art_padre\", 2, angulo=0)\n",
        "#brazo 1\n",
        "art_1 = Robot(\"art_1\", 1, angulo=pi/2, padre=art_padre,  angulo_min = -pi, angulo_max = pi)\n",
        "art_2 = Robot(\"hola\", 0.6, angulo=-pi/4, padre=art_1, angulo_min = -2*pi/3, angulo_max = 2*pi/3)\n",
        "#brazo 2\n",
        "art_3 = Robot(\"art_3\", 1, angulo=-pi/2, padre=art_padre,  angulo_min = -pi, angulo_max = pi)\n",
        "art_4 = Robot(\"art_4\", 0.6, angulo=pi/4, padre=art_3,  angulo_min = -2*pi/3, angulo_max = 2*pi/3)\n",
        "\n",
        "joints = [art_padre, art_1, art_2, art_3, art_4]\n",
        "objetivo = np.array([2, 2])  # Define el objetivo deseado\n",
        "\n",
        "# Ejecutar la cinemática inversa con visualización en cada iteración\n",
        "cinemática_inversa(joints, objetivo, gif_filename=\"animacion_robot2.gif\")"
      ]
    },
    {
      "cell_type": "markdown",
      "metadata": {
        "id": "mlVJYOroD-g8"
      },
      "source": [
        "#prueba 3"
      ]
    },
    {
      "cell_type": "code",
      "execution_count": 11,
      "metadata": {
        "colab": {
          "base_uri": "https://localhost:8080/",
          "height": 1000
        },
        "id": "TkUtmXmjD-g9",
        "outputId": "7a32f1db-a47a-4bee-c5cb-e0701572aea4"
      },
      "outputs": [
        {
          "name": "stderr",
          "output_type": "stream",
          "text": [
            "Ignoring fixed y limits to fulfill fixed data aspect with adjustable data limits.\n",
            "Ignoring fixed y limits to fulfill fixed data aspect with adjustable data limits.\n",
            "Ignoring fixed y limits to fulfill fixed data aspect with adjustable data limits.\n",
            "Ignoring fixed y limits to fulfill fixed data aspect with adjustable data limits.\n"
          ]
        },
        {
          "name": "stdout",
          "output_type": "stream",
          "text": [
            "Posición del end-effector: [0.42426407 0.42426407]\n",
            "Distancia al objetivo: 2.891366458960192\n",
            "El end-effector más cercano es el del brazo: 0\n",
            "Posición del end-effector: [0.4475354  0.08426079]\n",
            "Distancia al objetivo: 3.108132278075626\n",
            "El end-effector más cercano es el del brazo: 0\n",
            "Posición del end-effector: [1.21993024 0.78950777]\n",
            "Distancia al objetivo: 3.439947992915237\n",
            "El end-effector más cercano es el del brazo: 0\n",
            "Posición del end-effector: [ 1.39607751 -0.10472631]\n",
            "Distancia al objetivo: 3.9953992607323294\n",
            "El end-effector más cercano es el del brazo: 0\n"
          ]
        },
        {
          "name": "stderr",
          "output_type": "stream",
          "text": [
            "Ignoring fixed y limits to fulfill fixed data aspect with adjustable data limits.\n",
            "Ignoring fixed y limits to fulfill fixed data aspect with adjustable data limits.\n",
            "Ignoring fixed y limits to fulfill fixed data aspect with adjustable data limits.\n",
            "Ignoring fixed y limits to fulfill fixed data aspect with adjustable data limits.\n",
            "Ignoring fixed y limits to fulfill fixed data aspect with adjustable data limits.\n"
          ]
        },
        {
          "name": "stdout",
          "output_type": "stream",
          "text": [
            "Posición del end-effector: [-1.70497607  1.56859339]\n",
            "Distancia al objetivo: 0.5226382879285811\n",
            "El end-effector más cercano es el del brazo: 0\n",
            "Posición del end-effector: [-1.49490516  2.31045184]\n",
            "Distancia al objetivo: 0.5928753169280201\n",
            "El end-effector más cercano es el del brazo: 0\n",
            "Posición del end-effector: [-2.09648553  1.68350922]\n",
            "Distancia al objetivo: 0.33087137965538527\n",
            "El end-effector más cercano es el del brazo: 0\n",
            "Posición del end-effector: [-1.80096972  2.2378586 ]\n",
            "Distancia al objetivo: 0.3101447506723373\n",
            "El end-effector más cercano es el del brazo: 0\n",
            "Posición del end-effector: [-2.07905559  1.85325236]\n",
            "Distancia al objetivo: 0.16668729722280876\n",
            "El end-effector más cercano es el del brazo: 0\n"
          ]
        },
        {
          "name": "stderr",
          "output_type": "stream",
          "text": [
            "Ignoring fixed y limits to fulfill fixed data aspect with adjustable data limits.\n",
            "Ignoring fixed y limits to fulfill fixed data aspect with adjustable data limits.\n",
            "Ignoring fixed y limits to fulfill fixed data aspect with adjustable data limits.\n",
            "Ignoring fixed y limits to fulfill fixed data aspect with adjustable data limits.\n"
          ]
        },
        {
          "name": "stdout",
          "output_type": "stream",
          "text": [
            "Posición del end-effector: [-1.91175602  2.16884361]\n",
            "Distancia al objetivo: 0.19051290322617337\n",
            "El end-effector más cercano es el del brazo: 0\n",
            "Posición del end-effector: [-2.03823518  1.92987557]\n",
            "Distancia al objetivo: 0.07987093123444534\n",
            "El end-effector más cercano es el del brazo: 0\n",
            "Posición del end-effector: [-1.94888781  2.12626801]\n",
            "Distancia al objetivo: 0.1362206545558813\n",
            "El end-effector más cercano es el del brazo: 0\n",
            "Posición del end-effector: [-2.01068524  1.97111757]\n",
            "Distancia al objetivo: 0.030795599010974083\n",
            "El end-effector más cercano es el del brazo: 0\n",
            "Posición del end-effector: [-1.96993538  2.08789851]\n",
            "Distancia al objetivo: 0.09289795139516253\n",
            "El end-effector más cercano es el del brazo: 0\n"
          ]
        },
        {
          "name": "stderr",
          "output_type": "stream",
          "text": [
            "Ignoring fixed y limits to fulfill fixed data aspect with adjustable data limits.\n"
          ]
        },
        {
          "name": "stdout",
          "output_type": "stream",
          "text": [
            "Posición del end-effector: [-1.99770146  1.99765531]\n",
            "Distancia al objetivo: 0.003283421687328262\n",
            "El end-effector más cercano es el del brazo: 0\n",
            "Objetivo alcanzado en la iteración 14\n"
          ]
        },
        {
          "data": {
            "image/png": "[encoded data removed]",
            "text/plain": [
              "<Figure size 600x600 with 1 Axes>"
            ]
          },
          "metadata": {},
          "output_type": "display_data"
        },
        {
          "name": "stdout",
          "output_type": "stream",
          "text": [
            "GIF guardado como: animacion_robot3.gif\n"
          ]
        }
      ],
      "source": [
        "# Definición de los joints y objetivo\n",
        "art_padre = Robot(\"art_padre\", 2, angulo=0)\n",
        "#brazo 1\n",
        "art_1 = Robot(\"art_1\", 1, angulo=pi/2, padre=art_padre,  angulo_min = -pi, angulo_max = pi)\n",
        "art_2 = Robot(\"hola\", 0.6, angulo=-pi/4, padre=art_1, angulo_min = -2*pi/3, angulo_max = 2*pi/3)\n",
        "#brazo 2\n",
        "art_3 = Robot(\"art_3\", 1, angulo=-pi/2, padre=art_padre,  angulo_min = -pi, angulo_max = pi)\n",
        "art_4 = Robot(\"art_4\", 0.6, angulo=pi/4, padre=art_3,  angulo_min = -2*pi/3, angulo_max = 2*pi/3)\n",
        "\n",
        "joints = [art_padre, art_1, art_2, art_3, art_4]\n",
        "objetivo = np.array([-2, 2])  # Define el objetivo deseado\n",
        "\n",
        "# Ejecutar la cinemática inversa con visualización en cada iteración\n",
        "cinemática_inversa(joints, objetivo, gif_filename=\"animacion_robot3.gif\")"
      ]
    },
    {
      "cell_type": "markdown",
      "metadata": {
        "id": "7i08tvPFD-g9"
      },
      "source": [
        "#prueba 4"
      ]
    },
    {
      "cell_type": "code",
      "execution_count": 12,
      "metadata": {
        "colab": {
          "base_uri": "https://localhost:8080/",
          "height": 1000
        },
        "id": "ub5xVENhD-g-",
        "outputId": "4a26f7c6-5ee2-4e3c-9288-d86471a03a20"
      },
      "outputs": [
        {
          "name": "stderr",
          "output_type": "stream",
          "text": [
            "Ignoring fixed y limits to fulfill fixed data aspect with adjustable data limits.\n",
            "Ignoring fixed y limits to fulfill fixed data aspect with adjustable data limits.\n",
            "Ignoring fixed y limits to fulfill fixed data aspect with adjustable data limits.\n"
          ]
        },
        {
          "name": "stdout",
          "output_type": "stream",
          "text": [
            "Posición del end-effector: [0.42426407 0.42426407]\n",
            "Distancia al objetivo: 2.272211197303694\n",
            "El end-effector más cercano es el del brazo: 0\n",
            "Posición del end-effector: [-0.36669256  1.67379726]\n",
            "Distancia al objetivo: 0.8368881857496224\n",
            "El end-effector más cercano es el del brazo: 0\n",
            "Posición del end-effector: [-0.19899503  2.60976346]\n",
            "Distancia al objetivo: 0.3203935206295227\n",
            "El end-effector más cercano es el del brazo: 0\n"
          ]
        },
        {
          "name": "stderr",
          "output_type": "stream",
          "text": [
            "Ignoring fixed y limits to fulfill fixed data aspect with adjustable data limits.\n",
            "Ignoring fixed y limits to fulfill fixed data aspect with adjustable data limits.\n",
            "Ignoring fixed y limits to fulfill fixed data aspect with adjustable data limits.\n",
            "Ignoring fixed y limits to fulfill fixed data aspect with adjustable data limits.\n"
          ]
        },
        {
          "name": "stdout",
          "output_type": "stream",
          "text": [
            "Posición del end-effector: [-0.57965832  2.29177994]\n",
            "Distancia al objetivo: 0.22293729856622513\n",
            "El end-effector más cercano es el del brazo: 0\n",
            "Posición del end-effector: [-0.3945301   2.61887675]\n",
            "Distancia al objetivo: 0.15892004777483107\n",
            "El end-effector más cercano es el del brazo: 0\n",
            "Posición del end-effector: [-0.5186889   2.44684446]\n",
            "Distancia al objetivo: 0.05634524254997903\n",
            "El end-effector más cercano es el del brazo: 0\n",
            "Posición del end-effector: [-0.4734092   2.54286611]\n",
            "Distancia al objetivo: 0.05044377042334001\n",
            "El end-effector más cercano es el del brazo: 0\n",
            "Posición del end-effector: [-0.49754446  2.49960705]\n",
            "Distancia al objetivo: 0.0024867835351110815\n",
            "El end-effector más cercano es el del brazo: 0\n",
            "Objetivo alcanzado en la iteración 7\n"
          ]
        },
        {
          "data": {
            "image/png": "[encoded data removed]",
            "text/plain": [
              "<Figure size 600x600 with 1 Axes>"
            ]
          },
          "metadata": {},
          "output_type": "display_data"
        },
        {
          "name": "stdout",
          "output_type": "stream",
          "text": [
            "GIF guardado como: animacion_robot4.gif\n"
          ]
        }
      ],
      "source": [
        "# Definición de los joints y objetivo\n",
        "art_padre = Robot(\"art_padre\", 2, angulo=0)\n",
        "#brazo 1\n",
        "art_1 = Robot(\"art_1\", 1, angulo=pi/2, padre=art_padre,  angulo_min = -pi, angulo_max = pi)\n",
        "art_2 = Robot(\"hola\", 0.6, angulo=-pi/4, padre=art_1, angulo_min = -2*pi/3, angulo_max = 2*pi/3)\n",
        "#brazo 2\n",
        "art_3 = Robot(\"art_3\", 1, angulo=-pi/2, padre=art_padre,  angulo_min = -pi, angulo_max = pi)\n",
        "art_4 = Robot(\"art_4\", 0.6, angulo=pi/4, padre=art_3,  angulo_min = -2*pi/3, angulo_max = 2*pi/3)\n",
        "\n",
        "joints = [art_padre, art_1, art_2, art_3, art_4]\n",
        "objetivo = np.array([-0.5, 2.5])  # Define el objetivo deseado\n",
        "\n",
        "# Ejecutar la cinemática inversa con visualización en cada iteración\n",
        "cinemática_inversa(joints, objetivo, gif_filename=\"animacion_robot4.gif\")"
      ]
    },
    {
      "cell_type": "markdown",
      "metadata": {
        "id": "54TGwzcOD-g-"
      },
      "source": [
        "#prueba 5"
      ]
    },
    {
      "cell_type": "code",
      "execution_count": null,
      "metadata": {
        "id": "19Nlx_bVE8_o"
      },
      "outputs": [],
      "source": []
    },
    {
      "cell_type": "code",
      "execution_count": 13,
      "metadata": {
        "colab": {
          "base_uri": "https://localhost:8080/",
          "height": 1000
        },
        "id": "NjbLFOyDD-g_",
        "outputId": "88983e37-1372-4161-d3e3-01507fd4d4d6"
      },
      "outputs": [
        {
          "name": "stderr",
          "output_type": "stream",
          "text": [
            "Ignoring fixed y limits to fulfill fixed data aspect with adjustable data limits.\n",
            "Ignoring fixed y limits to fulfill fixed data aspect with adjustable data limits.\n",
            "Ignoring fixed y limits to fulfill fixed data aspect with adjustable data limits.\n",
            "Ignoring fixed y limits to fulfill fixed data aspect with adjustable data limits.\n"
          ]
        },
        {
          "name": "stdout",
          "output_type": "stream",
          "text": [
            "Posición del end-effector: [ 0.42426407 -0.42426407]\n",
            "Distancia al objetivo: 1.8027360168647188\n",
            "El end-effector más cercano es el del brazo: 1\n",
            "Posición del end-effector: [3.32693387 0.3650735 ]\n",
            "Distancia al objetivo: 2.129136736074755\n",
            "El end-effector más cercano es el del brazo: 1\n",
            "Posición del end-effector: [ 2.72118165 -0.48979285]\n",
            "Distancia al objetivo: 1.0846836410849208\n",
            "El end-effector más cercano es el del brazo: 1\n",
            "Posición del end-effector: [ 2.2125501  -0.84547173]\n",
            "Distancia al objetivo: 0.5017703555814229\n",
            "El end-effector más cercano es el del brazo: 1\n"
          ]
        },
        {
          "name": "stderr",
          "output_type": "stream",
          "text": [
            "Ignoring fixed y limits to fulfill fixed data aspect with adjustable data limits.\n",
            "Ignoring fixed y limits to fulfill fixed data aspect with adjustable data limits.\n",
            "Ignoring fixed y limits to fulfill fixed data aspect with adjustable data limits.\n",
            "Ignoring fixed y limits to fulfill fixed data aspect with adjustable data limits.\n"
          ]
        },
        {
          "name": "stdout",
          "output_type": "stream",
          "text": [
            "Posición del end-effector: [ 1.95308223 -1.02813919]\n",
            "Distancia al objetivo: 0.27587964630405826\n",
            "El end-effector más cercano es el del brazo: 1\n",
            "Posición del end-effector: [ 2.03161923 -1.17488164]\n",
            "Distancia al objetivo: 0.12905184398873254\n",
            "El end-effector más cercano es el del brazo: 1\n",
            "Posición del end-effector: [ 2.02779986 -1.26420643]\n",
            "Distancia al objetivo: 0.045321204018121695\n",
            "El end-effector más cercano es el del brazo: 1\n",
            "Posición del end-effector: [ 2.08632143 -1.25913791]\n",
            "Distancia al objetivo: 0.09550444322747981\n",
            "El end-effector más cercano es el del brazo: 1\n"
          ]
        },
        {
          "name": "stderr",
          "output_type": "stream",
          "text": [
            "Ignoring fixed y limits to fulfill fixed data aspect with adjustable data limits.\n",
            "Ignoring fixed y limits to fulfill fixed data aspect with adjustable data limits.\n",
            "Ignoring fixed y limits to fulfill fixed data aspect with adjustable data limits.\n",
            "Ignoring fixed y limits to fulfill fixed data aspect with adjustable data limits.\n",
            "Ignoring fixed y limits to fulfill fixed data aspect with adjustable data limits.\n"
          ]
        },
        {
          "name": "stdout",
          "output_type": "stream",
          "text": [
            "Posición del end-effector: [ 2.04318371 -1.2806178 ]\n",
            "Distancia al objetivo: 0.04733394829367412\n",
            "El end-effector más cercano es el del brazo: 1\n",
            "Posición del end-effector: [ 2.0717674 -1.2727157]\n",
            "Distancia al objetivo: 0.07677885456919283\n",
            "El end-effector más cercano es el del brazo: 1\n",
            "Posición del end-effector: [ 2.03531895 -1.28429407]\n",
            "Distancia al objetivo: 0.038653648170352925\n",
            "El end-effector más cercano es el del brazo: 1\n",
            "Posición del end-effector: [ 2.04453197 -1.28548036]\n",
            "Distancia al objetivo: 0.04683925619287973\n",
            "El end-effector más cercano es el del brazo: 1\n",
            "Posición del end-effector: [ 2.02590188 -1.29126821]\n",
            "Distancia al objetivo: 0.027334074860059378\n",
            "El end-effector más cercano es el del brazo: 1\n"
          ]
        },
        {
          "name": "stderr",
          "output_type": "stream",
          "text": [
            "Ignoring fixed y limits to fulfill fixed data aspect with adjustable data limits.\n",
            "Ignoring fixed y limits to fulfill fixed data aspect with adjustable data limits.\n",
            "Ignoring fixed y limits to fulfill fixed data aspect with adjustable data limits.\n",
            "Ignoring fixed y limits to fulfill fixed data aspect with adjustable data limits.\n"
          ]
        },
        {
          "name": "stdout",
          "output_type": "stream",
          "text": [
            "Posición del end-effector: [ 2.02555352 -1.29415797]\n",
            "Distancia al objetivo: 0.026212812891503613\n",
            "El end-effector más cercano es el del brazo: 1\n",
            "Posición del end-effector: [ 2.01780217 -1.29678507]\n",
            "Distancia al objetivo: 0.01809013999532377\n",
            "El end-effector más cercano es el del brazo: 1\n",
            "Posición del end-effector: [ 2.01512091 -1.29860648]\n",
            "Distancia al objetivo: 0.015184991374911035\n",
            "El end-effector más cercano es el del brazo: 1\n",
            "Posición del end-effector: [ 2.01165722 -1.29978381]\n",
            "Distancia al objetivo: 0.011659222508425094\n",
            "El end-effector más cercano es el del brazo: 1\n",
            "Posición del end-effector: [ 2.00943053 -1.30058575]\n",
            "Distancia al objetivo: 0.009448708031782542\n",
            "El end-effector más cercano es el del brazo: 1\n",
            "Objetivo alcanzado en la iteración 17\n"
          ]
        },
        {
          "data": {
            "image/png": "[encoded data removed]",
            "text/plain": [
              "<Figure size 600x600 with 1 Axes>"
            ]
          },
          "metadata": {},
          "output_type": "display_data"
        },
        {
          "name": "stdout",
          "output_type": "stream",
          "text": [
            "GIF guardado como: animacion_robot5.gif\n"
          ]
        }
      ],
      "source": [
        "# Definición de los joints y objetivo\n",
        "art_padre = Robot(\"art_padre\", 2, angulo=0)\n",
        "#brazo 1\n",
        "art_1 = Robot(\"art_1\", 1, angulo=pi/2, padre=art_padre,  angulo_min = -pi, angulo_max = pi)\n",
        "art_2 = Robot(\"hola\", 0.6, angulo=-pi/4, padre=art_1, angulo_min = -2*pi/3, angulo_max = 2*pi/3)\n",
        "#brazo 2\n",
        "art_3 = Robot(\"art_3\", 1, angulo=-pi/2, padre=art_padre,  angulo_min = -pi, angulo_max = pi)\n",
        "art_4 = Robot(\"art_4\", 0.6, angulo=pi/4, padre=art_3,  angulo_min = -2*pi/3, angulo_max = 2*pi/3)\n",
        "\n",
        "joints = [art_padre, art_1, art_2, art_3, art_4]\n",
        "objetivo = np.array([2, -1.3])  # Define el objetivo deseado\n",
        "\n",
        "# Ejecutar la cinemática inversa con visualización en cada iteración\n",
        "cinemática_inversa(joints, objetivo, gif_filename=\"animacion_robot5.gif\")"
      ]
    },
    {
      "cell_type": "markdown",
      "metadata": {
        "id": "cqpshKOLD-g_"
      },
      "source": [
        "#prueba 6"
      ]
    },
    {
      "cell_type": "code",
      "execution_count": 14,
      "metadata": {
        "id": "h44Tq8QoD-g_",
        "outputId": "96418a5d-6ca1-4c65-ee9d-51822e301409"
      },
      "outputs": [
        {
          "name": "stderr",
          "output_type": "stream",
          "text": [
            "Ignoring fixed y limits to fulfill fixed data aspect with adjustable data limits.\n",
            "Ignoring fixed y limits to fulfill fixed data aspect with adjustable data limits.\n",
            "Ignoring fixed y limits to fulfill fixed data aspect with adjustable data limits.\n",
            "Ignoring fixed y limits to fulfill fixed data aspect with adjustable data limits.\n"
          ]
        },
        {
          "name": "stdout",
          "output_type": "stream",
          "text": [
            "Posición del end-effector: [0.42426407 0.42426407]\n",
            "Distancia al objetivo: 0.814213562373095\n",
            "El end-effector más cercano es el del brazo: 0\n",
            "Posición del end-effector: [2.69193204 1.83530172]\n",
            "Distancia al objetivo: 1.8868924143471093\n",
            "El end-effector más cercano es el del brazo: 0\n",
            "Posición del end-effector: [0.54543686 0.39162783]\n",
            "Distancia al objetivo: 0.7594368602896032\n",
            "El end-effector más cercano es el del brazo: 0\n",
            "Posición del end-effector: [1.31152615 0.72811963]\n",
            "Distancia al objetivo: 0.4134821379084773\n",
            "El end-effector más cercano es el del brazo: 0\n",
            "Posición del end-effector: [0.98267074 0.87478866]\n",
            "Distancia al objetivo: 0.1264048423213008\n",
            "El end-effector más cercano es el del brazo: 0\n"
          ]
        },
        {
          "name": "stderr",
          "output_type": "stream",
          "text": [
            "Ignoring fixed y limits to fulfill fixed data aspect with adjustable data limits.\n",
            "Ignoring fixed y limits to fulfill fixed data aspect with adjustable data limits.\n",
            "Ignoring fixed y limits to fulfill fixed data aspect with adjustable data limits.\n"
          ]
        },
        {
          "name": "stdout",
          "output_type": "stream",
          "text": [
            "Posición del end-effector: [1.17583825 1.05812509]\n",
            "Distancia al objetivo: 0.18519615634774308\n",
            "El end-effector más cercano es el del brazo: 0\n",
            "Posición del end-effector: [1.01291845 1.07036368]\n",
            "Distancia al objetivo: 0.07153973572757936\n",
            "El end-effector más cercano es el del brazo: 0\n",
            "Posición del end-effector: [1.08645898 1.18324886]\n",
            "Distancia al objetivo: 0.20262107563601411\n",
            "El end-effector más cercano es el del brazo: 0\n"
          ]
        },
        {
          "name": "stderr",
          "output_type": "stream",
          "text": [
            "Ignoring fixed y limits to fulfill fixed data aspect with adjustable data limits.\n",
            "Ignoring fixed y limits to fulfill fixed data aspect with adjustable data limits.\n",
            "Ignoring fixed y limits to fulfill fixed data aspect with adjustable data limits.\n",
            "Ignoring fixed y limits to fulfill fixed data aspect with adjustable data limits.\n",
            "Ignoring fixed y limits to fulfill fixed data aspect with adjustable data limits.\n"
          ]
        },
        {
          "name": "stdout",
          "output_type": "stream",
          "text": [
            "Posición del end-effector: [1.02868898 1.19648559]\n",
            "Distancia al objetivo: 0.19856898708510548\n",
            "El end-effector más cercano es el del brazo: 0\n",
            "Posición del end-effector: [1.04758023 1.24349725]\n",
            "Distancia al objetivo: 0.24810238150492012\n",
            "El end-effector más cercano es el del brazo: 0\n",
            "Posición del end-effector: [1.02886006 1.25316779]\n",
            "Distancia al objetivo: 0.25480744219763396\n",
            "El end-effector más cercano es el del brazo: 0\n",
            "Posición del end-effector: [1.0303074  1.26724701]\n",
            "Distancia al objetivo: 0.2689600432699623\n",
            "El end-effector más cercano es el del brazo: 0\n",
            "Posición del end-effector: [1.02322005 1.26704284]\n",
            "Distancia al objetivo: 0.26805046443332076\n",
            "El end-effector más cercano es el del brazo: 0\n"
          ]
        },
        {
          "name": "stderr",
          "output_type": "stream",
          "text": [
            "Ignoring fixed y limits to fulfill fixed data aspect with adjustable data limits.\n",
            "Ignoring fixed y limits to fulfill fixed data aspect with adjustable data limits.\n",
            "Ignoring fixed y limits to fulfill fixed data aspect with adjustable data limits.\n",
            "Ignoring fixed y limits to fulfill fixed data aspect with adjustable data limits.\n",
            "Ignoring fixed y limits to fulfill fixed data aspect with adjustable data limits.\n",
            "Ignoring fixed y limits to fulfill fixed data aspect with adjustable data limits.\n"
          ]
        },
        {
          "name": "stdout",
          "output_type": "stream",
          "text": [
            "Posición del end-effector: [1.020551   1.26351381]\n",
            "Distancia al objetivo: 0.2643139606568962\n",
            "El end-effector más cercano es el del brazo: 0\n",
            "Posición del end-effector: [1.01656652 1.253617  ]\n",
            "Distancia al objetivo: 0.25415749570446\n",
            "El end-effector más cercano es el del brazo: 0\n",
            "Posición del end-effector: [1.01358996 1.24047069]\n",
            "Distancia al objetivo: 0.2408543921997876\n",
            "El end-effector más cercano es el del brazo: 0\n",
            "Posición del end-effector: [1.01075787 1.22463271]\n",
            "Distancia al objetivo: 0.22489016397303668\n",
            "El end-effector más cercano es el del brazo: 0\n",
            "Posición del end-effector: [1.00840877 1.20756812]\n",
            "Distancia al objetivo: 0.20773836960713996\n",
            "El end-effector más cercano es el del brazo: 0\n"
          ]
        },
        {
          "name": "stderr",
          "output_type": "stream",
          "text": [
            "Ignoring fixed y limits to fulfill fixed data aspect with adjustable data limits.\n",
            "Ignoring fixed y limits to fulfill fixed data aspect with adjustable data limits.\n",
            "Ignoring fixed y limits to fulfill fixed data aspect with adjustable data limits.\n",
            "Ignoring fixed y limits to fulfill fixed data aspect with adjustable data limits.\n"
          ]
        },
        {
          "name": "stdout",
          "output_type": "stream",
          "text": [
            "Posición del end-effector: [1.0064392  1.19023075]\n",
            "Distancia al objetivo: 0.19033970156134228\n",
            "El end-effector más cercano es el del brazo: 0\n",
            "Posición del end-effector: [1.00486186 1.17348294]\n",
            "Distancia al objetivo: 0.17355105361915507\n",
            "El end-effector más cercano es el del brazo: 0\n",
            "Posición del end-effector: [1.00362667 1.15790971]\n",
            "Distancia al objetivo: 0.15795134691987578\n",
            "El end-effector más cercano es el del brazo: 0\n",
            "Posición del end-effector: [1.00268403 1.14387629]\n",
            "Distancia al objetivo: 0.1439013253152951\n",
            "El end-effector más cercano es el del brazo: 0\n"
          ]
        },
        {
          "name": "stderr",
          "output_type": "stream",
          "text": [
            "Ignoring fixed y limits to fulfill fixed data aspect with adjustable data limits.\n",
            "Ignoring fixed y limits to fulfill fixed data aspect with adjustable data limits.\n",
            "Ignoring fixed y limits to fulfill fixed data aspect with adjustable data limits.\n",
            "Ignoring fixed y limits to fulfill fixed data aspect with adjustable data limits.\n",
            "Ignoring fixed y limits to fulfill fixed data aspect with adjustable data limits.\n"
          ]
        },
        {
          "name": "stdout",
          "output_type": "stream",
          "text": [
            "Posición del end-effector: [1.00197773 1.1315475 ]\n",
            "Distancia al objetivo: 0.1315623640211586\n",
            "El end-effector más cercano es el del brazo: 0\n",
            "Posición del end-effector: [1.00145592 1.12093837]\n",
            "Distancia al objetivo: 0.1209471286566444\n",
            "El end-effector más cercano es el del brazo: 0\n",
            "Posición del end-effector: [1.00107376 1.11196118]\n",
            "Distancia al objetivo: 0.11196632985052869\n",
            "El end-effector más cercano es el del brazo: 0\n",
            "Posición del end-effector: [1.00079511 1.1044675 ]\n",
            "Distancia al objetivo: 0.10447052265619095\n",
            "El end-effector más cercano es el del brazo: 0\n",
            "Posición del end-effector: [1.00059202 1.09828032]\n",
            "Distancia al objetivo: 0.09828210033991185\n",
            "El end-effector más cercano es el del brazo: 0\n"
          ]
        },
        {
          "name": "stderr",
          "output_type": "stream",
          "text": [
            "Ignoring fixed y limits to fulfill fixed data aspect with adjustable data limits.\n",
            "Ignoring fixed y limits to fulfill fixed data aspect with adjustable data limits.\n",
            "Ignoring fixed y limits to fulfill fixed data aspect with adjustable data limits.\n",
            "Ignoring fixed y limits to fulfill fixed data aspect with adjustable data limits.\n"
          ]
        },
        {
          "name": "stdout",
          "output_type": "stream",
          "text": [
            "Posición del end-effector: [1.00044361 1.09321661]\n",
            "Distancia al objetivo: 0.09321766139846352\n",
            "El end-effector más cercano es el del brazo: 0\n",
            "Posición del end-effector: [1.00033463 1.08910146]\n",
            "Distancia al objetivo: 0.08910208712932068\n",
            "El end-effector más cercano es el del brazo: 0\n",
            "Posición del end-effector: [1.00025409 1.08577595]\n",
            "Distancia al objetivo: 0.08577633092066017\n",
            "El end-effector más cercano es el del brazo: 0\n",
            "Posición del end-effector: [1.00019413 1.0831006 ]\n",
            "Distancia al objetivo: 0.08310082925585799\n",
            "El end-effector más cercano es el del brazo: 0\n",
            "Posición del end-effector: [1.00014915 1.08095597]\n",
            "Distancia al objetivo: 0.0809561051817075\n",
            "El end-effector más cercano es el del brazo: 0\n"
          ]
        },
        {
          "name": "stderr",
          "output_type": "stream",
          "text": [
            "Ignoring fixed y limits to fulfill fixed data aspect with adjustable data limits.\n",
            "Ignoring fixed y limits to fulfill fixed data aspect with adjustable data limits.\n",
            "Ignoring fixed y limits to fulfill fixed data aspect with adjustable data limits.\n",
            "Ignoring fixed y limits to fulfill fixed data aspect with adjustable data limits.\n",
            "Ignoring fixed y limits to fulfill fixed data aspect with adjustable data limits.\n",
            "Ignoring fixed y limits to fulfill fixed data aspect with adjustable data limits.\n"
          ]
        },
        {
          "name": "stdout",
          "output_type": "stream",
          "text": [
            "Posición del end-effector: [1.00011516 1.07924164]\n",
            "Distancia al objetivo: 0.07924172794523604\n",
            "El end-effector más cercano es el del brazo: 0\n",
            "Posición del end-effector: [1.00008929 1.07787438]\n",
            "Distancia al objetivo: 0.07787442884271392\n",
            "El end-effector más cercano es el del brazo: 0\n",
            "Posición del end-effector: [1.00006949 1.07678586]\n",
            "Distancia al objetivo: 0.07678588787647217\n",
            "El end-effector más cercano es el del brazo: 0\n",
            "Posición del end-effector: [1.00005424 1.07592048]\n",
            "Distancia al objetivo: 0.07592049999159804\n",
            "El end-effector más cercano es el del brazo: 0\n",
            "Posición del end-effector: [1.00004245 1.07523328]\n",
            "Distancia al objetivo: 0.07523329025520682\n",
            "El end-effector más cercano es el del brazo: 0\n"
          ]
        },
        {
          "name": "stderr",
          "output_type": "stream",
          "text": [
            "Ignoring fixed y limits to fulfill fixed data aspect with adjustable data limits.\n",
            "Ignoring fixed y limits to fulfill fixed data aspect with adjustable data limits.\n",
            "Ignoring fixed y limits to fulfill fixed data aspect with adjustable data limits.\n",
            "Ignoring fixed y limits to fulfill fixed data aspect with adjustable data limits.\n"
          ]
        },
        {
          "name": "stdout",
          "output_type": "stream",
          "text": [
            "Posición del end-effector: [1.00003328 1.07468805]\n",
            "Distancia al objetivo: 0.0746880579106089\n",
            "El end-effector más cercano es el del brazo: 0\n",
            "Posición del end-effector: [1.00002614 1.07425577]\n",
            "Distancia al objetivo: 0.07425577493977263\n",
            "El end-effector más cercano es el del brazo: 0\n",
            "Posición del end-effector: [1.00002056 1.07391323]\n",
            "Distancia al objetivo: 0.07391323392520815\n",
            "El end-effector más cercano es el del brazo: 0\n",
            "Posición del end-effector: [1.00001619 1.07364192]\n",
            "Distancia al objetivo: 0.07364192413944001\n",
            "El end-effector más cercano es el del brazo: 0\n",
            "Posición del end-effector: [1.00001276 1.07342711]\n",
            "Distancia al objetivo: 0.07342710807787943\n",
            "El end-effector más cercano es el del brazo: 0\n"
          ]
        },
        {
          "name": "stderr",
          "output_type": "stream",
          "text": [
            "Ignoring fixed y limits to fulfill fixed data aspect with adjustable data limits.\n",
            "Ignoring fixed y limits to fulfill fixed data aspect with adjustable data limits.\n",
            "Ignoring fixed y limits to fulfill fixed data aspect with adjustable data limits.\n",
            "Ignoring fixed y limits to fulfill fixed data aspect with adjustable data limits.\n",
            "Ignoring fixed y limits to fulfill fixed data aspect with adjustable data limits.\n"
          ]
        },
        {
          "name": "stdout",
          "output_type": "stream",
          "text": [
            "Posición del end-effector: [1.00001006 1.07325707]\n",
            "Distancia al objetivo: 0.07325706924646445\n",
            "El end-effector más cercano es el del brazo: 0\n",
            "Posición del end-effector: [1.00000794 1.0731225 ]\n",
            "Distancia al objetivo: 0.07312250347662162\n",
            "El end-effector más cercano es el del brazo: 0\n",
            "Posición del end-effector: [1.00000627 1.07301603]\n",
            "Distancia al objetivo: 0.07301602886992992\n",
            "El end-effector más cercano es el del brazo: 0\n",
            "Posición del end-effector: [1.00000495 1.07293179]\n",
            "Distancia al objetivo: 0.07293179279295539\n",
            "El end-effector más cercano es el del brazo: 0\n"
          ]
        },
        {
          "name": "stderr",
          "output_type": "stream",
          "text": [
            "Ignoring fixed y limits to fulfill fixed data aspect with adjustable data limits.\n",
            "Ignoring fixed y limits to fulfill fixed data aspect with adjustable data limits.\n",
            "Ignoring fixed y limits to fulfill fixed data aspect with adjustable data limits.\n",
            "Ignoring fixed y limits to fulfill fixed data aspect with adjustable data limits.\n"
          ]
        },
        {
          "name": "stdout",
          "output_type": "stream",
          "text": [
            "Posición del end-effector: [1.00000391 1.07286516]\n",
            "Distancia al objetivo: 0.0728651576587767\n",
            "El end-effector más cercano es el del brazo: 0\n",
            "Posición del end-effector: [1.00000309 1.07281245]\n",
            "Distancia al objetivo: 0.07281245029515672\n",
            "El end-effector más cercano es el del brazo: 0\n",
            "Posición del end-effector: [1.00000244 1.07277076]\n",
            "Distancia al objetivo: 0.07277076240174421\n",
            "El end-effector más cercano es el del brazo: 0\n",
            "Posición del end-effector: [1.00000193 1.07273779]\n",
            "Distancia al objetivo: 0.07273779191287189\n",
            "El end-effector más cercano es el del brazo: 0\n",
            "Posición del end-effector: [1.00000152 1.07271172]\n",
            "Distancia al objetivo: 0.072711717024244\n",
            "El end-effector más cercano es el del brazo: 0\n"
          ]
        },
        {
          "name": "stderr",
          "output_type": "stream",
          "text": [
            "Ignoring fixed y limits to fulfill fixed data aspect with adjustable data limits.\n",
            "Ignoring fixed y limits to fulfill fixed data aspect with adjustable data limits.\n",
            "Ignoring fixed y limits to fulfill fixed data aspect with adjustable data limits.\n",
            "Ignoring fixed y limits to fulfill fixed data aspect with adjustable data limits.\n",
            "Ignoring fixed y limits to fulfill fixed data aspect with adjustable data limits.\n",
            "Ignoring fixed y limits to fulfill fixed data aspect with adjustable data limits.\n"
          ]
        },
        {
          "name": "stdout",
          "output_type": "stream",
          "text": [
            "Posición del end-effector: [1.0000012 1.0726911]\n",
            "Distancia al objetivo: 0.07269109624762794\n",
            "El end-effector más cercano es el del brazo: 0\n",
            "Posición del end-effector: [1.00000095 1.07267479]\n",
            "Distancia al objetivo: 0.07267478917178727\n",
            "El end-effector más cercano es el del brazo: 0\n",
            "Posición del end-effector: [1.00000075 1.07266189]\n",
            "Distancia al objetivo: 0.07266189367477983\n",
            "El end-effector más cercano es el del brazo: 0\n",
            "Posición del end-effector: [1.0000006 1.0726517]\n",
            "Distancia al objetivo: 0.07265169619391006\n",
            "El end-effector más cercano es el del brazo: 0\n",
            "Posición del end-effector: [1.00000047 1.07264363]\n",
            "Distancia al objetivo: 0.07264363235141824\n",
            "El end-effector más cercano es el del brazo: 0\n"
          ]
        },
        {
          "name": "stderr",
          "output_type": "stream",
          "text": [
            "Ignoring fixed y limits to fulfill fixed data aspect with adjustable data limits.\n",
            "Ignoring fixed y limits to fulfill fixed data aspect with adjustable data limits.\n",
            "Ignoring fixed y limits to fulfill fixed data aspect with adjustable data limits.\n",
            "Ignoring fixed y limits to fulfill fixed data aspect with adjustable data limits.\n",
            "Ignoring fixed y limits to fulfill fixed data aspect with adjustable data limits.\n"
          ]
        },
        {
          "name": "stdout",
          "output_type": "stream",
          "text": [
            "Posición del end-effector: [1.00000037 1.07263726]\n",
            "Distancia al objetivo: 0.07263725578799086\n",
            "El end-effector más cercano es el del brazo: 0\n",
            "Posición del end-effector: [1.00000029 1.07263221]\n",
            "Distancia al objetivo: 0.07263221349843355\n",
            "El end-effector más cercano es el del brazo: 0\n",
            "Posición del end-effector: [1.00000023 1.07262823]\n",
            "Distancia al objetivo: 0.07262822631631992\n",
            "El end-effector más cercano es el del brazo: 0\n",
            "Posición del end-effector: [1.00000018 1.07262507]\n",
            "Distancia al objetivo: 0.07262507347478162\n",
            "El end-effector más cercano es el del brazo: 0\n",
            "Posición del end-effector: [1.00000015 1.07262258]\n",
            "Distancia al objetivo: 0.0726225803933758\n",
            "El end-effector más cercano es el del brazo: 0\n"
          ]
        },
        {
          "name": "stderr",
          "output_type": "stream",
          "text": [
            "Ignoring fixed y limits to fulfill fixed data aspect with adjustable data limits.\n",
            "Ignoring fixed y limits to fulfill fixed data aspect with adjustable data limits.\n",
            "Ignoring fixed y limits to fulfill fixed data aspect with adjustable data limits.\n",
            "Ignoring fixed y limits to fulfill fixed data aspect with adjustable data limits.\n",
            "Ignoring fixed y limits to fulfill fixed data aspect with adjustable data limits.\n"
          ]
        },
        {
          "name": "stdout",
          "output_type": "stream",
          "text": [
            "Posición del end-effector: [1.00000012 1.07262061]\n",
            "Distancia al objetivo: 0.07262060901772666\n",
            "El end-effector más cercano es el del brazo: 0\n",
            "Posición del end-effector: [1.00000009 1.07261905]\n",
            "Distancia al objetivo: 0.07261905017888536\n",
            "El end-effector más cercano es el del brazo: 0\n",
            "Posición del end-effector: [1.00000007 1.07261782]\n",
            "Distancia al objetivo: 0.07261781755045223\n",
            "El end-effector más cercano es el del brazo: 0\n",
            "Posición del end-effector: [1.00000006 1.07261684]\n",
            "Distancia al objetivo: 0.07261684286954623\n",
            "El end-effector más cercano es el del brazo: 0\n",
            "Posición del end-effector: [1.00000004 1.07261607]\n",
            "Distancia al objetivo: 0.07261607215741932\n",
            "El end-effector más cercano es el del brazo: 0\n"
          ]
        },
        {
          "name": "stderr",
          "output_type": "stream",
          "text": [
            "Ignoring fixed y limits to fulfill fixed data aspect with adjustable data limits.\n",
            "Ignoring fixed y limits to fulfill fixed data aspect with adjustable data limits.\n",
            "Ignoring fixed y limits to fulfill fixed data aspect with adjustable data limits.\n",
            "Ignoring fixed y limits to fulfill fixed data aspect with adjustable data limits.\n"
          ]
        },
        {
          "name": "stdout",
          "output_type": "stream",
          "text": [
            "Posición del end-effector: [1.00000004 1.07261546]\n",
            "Distancia al objetivo: 0.07261546273069079\n",
            "El end-effector más cercano es el del brazo: 0\n",
            "Posición del end-effector: [1.00000003 1.07261498]\n",
            "Distancia al objetivo: 0.07261498083786189\n",
            "El end-effector más cercano es el del brazo: 0\n",
            "Posición del end-effector: [1.00000002 1.0726146 ]\n",
            "Distancia al objetivo: 0.07261459979032299\n",
            "El end-effector más cercano es el del brazo: 0\n",
            "Posición del end-effector: [1.00000002 1.0726143 ]\n",
            "Distancia al objetivo: 0.07261429848441504\n",
            "El end-effector más cercano es el del brazo: 0\n"
          ]
        },
        {
          "name": "stderr",
          "output_type": "stream",
          "text": [
            "Ignoring fixed y limits to fulfill fixed data aspect with adjustable data limits.\n",
            "Ignoring fixed y limits to fulfill fixed data aspect with adjustable data limits.\n",
            "Ignoring fixed y limits to fulfill fixed data aspect with adjustable data limits.\n",
            "Ignoring fixed y limits to fulfill fixed data aspect with adjustable data limits.\n"
          ]
        },
        {
          "name": "stdout",
          "output_type": "stream",
          "text": [
            "Posición del end-effector: [1.00000001 1.07261406]\n",
            "Distancia al objetivo: 0.0726140602327392\n",
            "El end-effector más cercano es el del brazo: 0\n",
            "Posición del end-effector: [1.00000001 1.07261387]\n",
            "Distancia al objetivo: 0.07261387184000373\n",
            "El end-effector más cercano es el del brazo: 0\n",
            "Posición del end-effector: [1.00000001 1.07261372]\n",
            "Distancia al objetivo: 0.07261372287226395\n",
            "El end-effector más cercano es el del brazo: 0\n",
            "Posición del end-effector: [1.00000001 1.07261361]\n",
            "Distancia al objetivo: 0.07261360507906188\n",
            "El end-effector más cercano es el del brazo: 0\n",
            "Posición del end-effector: [1.00000001 1.07261351]\n",
            "Distancia al objetivo: 0.0726135119365041\n",
            "El end-effector más cercano es el del brazo: 0\n"
          ]
        },
        {
          "name": "stderr",
          "output_type": "stream",
          "text": [
            "Ignoring fixed y limits to fulfill fixed data aspect with adjustable data limits.\n",
            "Ignoring fixed y limits to fulfill fixed data aspect with adjustable data limits.\n",
            "Ignoring fixed y limits to fulfill fixed data aspect with adjustable data limits.\n",
            "Ignoring fixed y limits to fulfill fixed data aspect with adjustable data limits.\n",
            "Ignoring fixed y limits to fulfill fixed data aspect with adjustable data limits.\n"
          ]
        },
        {
          "name": "stdout",
          "output_type": "stream",
          "text": [
            "Posición del end-effector: [1.         1.07261344]\n",
            "Distancia al objetivo: 0.07261343828594637\n",
            "El end-effector más cercano es el del brazo: 0\n",
            "Posición del end-effector: [1.         1.07261338]\n",
            "Distancia al objetivo: 0.07261338004829118\n",
            "El end-effector más cercano es el del brazo: 0\n",
            "Posición del end-effector: [1.         1.07261333]\n",
            "Distancia al objetivo: 0.07261333399807372\n",
            "El end-effector más cercano es el del brazo: 0\n",
            "Posición del end-effector: [1.        1.0726133]\n",
            "Distancia al objetivo: 0.07261329758482196\n",
            "El end-effector más cercano es el del brazo: 0\n",
            "Posición del end-effector: [1.         1.07261327]\n",
            "Distancia al objetivo: 0.07261326879180131\n",
            "El end-effector más cercano es el del brazo: 0\n"
          ]
        },
        {
          "name": "stderr",
          "output_type": "stream",
          "text": [
            "Ignoring fixed y limits to fulfill fixed data aspect with adjustable data limits.\n",
            "Ignoring fixed y limits to fulfill fixed data aspect with adjustable data limits.\n",
            "Ignoring fixed y limits to fulfill fixed data aspect with adjustable data limits.\n",
            "Ignoring fixed y limits to fulfill fixed data aspect with adjustable data limits.\n",
            "Ignoring fixed y limits to fulfill fixed data aspect with adjustable data limits.\n",
            "Ignoring fixed y limits to fulfill fixed data aspect with adjustable data limits.\n"
          ]
        },
        {
          "name": "stdout",
          "output_type": "stream",
          "text": [
            "Posición del end-effector: [1.         1.07261325]\n",
            "Distancia al objetivo: 0.07261324602432097\n",
            "El end-effector más cercano es el del brazo: 0\n",
            "Posición del end-effector: [1.         1.07261323]\n",
            "Distancia al objetivo: 0.07261322802141112\n",
            "El end-effector más cercano es el del brazo: 0\n",
            "Posición del end-effector: [1.         1.07261321]\n",
            "Distancia al objetivo: 0.07261321378598695\n",
            "El end-effector más cercano es el del brazo: 0\n",
            "Posición del end-effector: [1.        1.0726132]\n",
            "Distancia al objetivo: 0.07261320252962244\n",
            "El end-effector más cercano es el del brazo: 0\n",
            "Posición del end-effector: [1.         1.07261319]\n",
            "Distancia al objetivo: 0.07261319362888785\n",
            "El end-effector más cercano es el del brazo: 0\n"
          ]
        },
        {
          "name": "stderr",
          "output_type": "stream",
          "text": [
            "Ignoring fixed y limits to fulfill fixed data aspect with adjustable data limits.\n",
            "Ignoring fixed y limits to fulfill fixed data aspect with adjustable data limits.\n",
            "Ignoring fixed y limits to fulfill fixed data aspect with adjustable data limits.\n",
            "Ignoring fixed y limits to fulfill fixed data aspect with adjustable data limits.\n"
          ]
        },
        {
          "name": "stdout",
          "output_type": "stream",
          "text": [
            "Posición del end-effector: [1.         1.07261319]\n",
            "Distancia al objetivo: 0.07261318659081839\n",
            "El end-effector más cercano es el del brazo: 0\n",
            "Posición del end-effector: [1.         1.07261318]\n",
            "Distancia al objetivo: 0.07261318102561187\n",
            "El end-effector más cercano es el del brazo: 0\n",
            "Posición del end-effector: [1.         1.07261318]\n",
            "Distancia al objetivo: 0.07261317662504263\n",
            "El end-effector más cercano es el del brazo: 0\n",
            "Posición del end-effector: [1.         1.07261317]\n",
            "Distancia al objetivo: 0.07261317314538318\n",
            "El end-effector más cercano es el del brazo: 0\n",
            "Posición del end-effector: [1.         1.07261317]\n",
            "Distancia al objetivo: 0.07261317039391635\n",
            "El end-effector más cercano es el del brazo: 0\n"
          ]
        },
        {
          "name": "stderr",
          "output_type": "stream",
          "text": [
            "Ignoring fixed y limits to fulfill fixed data aspect with adjustable data limits.\n",
            "Ignoring fixed y limits to fulfill fixed data aspect with adjustable data limits.\n",
            "Ignoring fixed y limits to fulfill fixed data aspect with adjustable data limits.\n",
            "Ignoring fixed y limits to fulfill fixed data aspect with adjustable data limits.\n",
            "Ignoring fixed y limits to fulfill fixed data aspect with adjustable data limits.\n"
          ]
        },
        {
          "name": "stdout",
          "output_type": "stream",
          "text": [
            "Posición del end-effector: [1.         1.07261317]\n",
            "Distancia al objetivo: 0.07261316821825159\n",
            "El end-effector más cercano es el del brazo: 0\n",
            "Posición del end-effector: [1.         1.07261317]\n",
            "Distancia al objetivo: 0.07261316649788996\n",
            "El end-effector más cercano es el del brazo: 0\n",
            "Posición del end-effector: [1.         1.07261317]\n",
            "Distancia al objetivo: 0.0726131651375499\n",
            "El end-effector más cercano es el del brazo: 0\n",
            "Posición del end-effector: [1.         1.07261316]\n",
            "Distancia al objetivo: 0.07261316406188989\n",
            "El end-effector más cercano es el del brazo: 0\n"
          ]
        },
        {
          "name": "stderr",
          "output_type": "stream",
          "text": [
            "Ignoring fixed y limits to fulfill fixed data aspect with adjustable data limits.\n",
            "Ignoring fixed y limits to fulfill fixed data aspect with adjustable data limits.\n",
            "Ignoring fixed y limits to fulfill fixed data aspect with adjustable data limits.\n",
            "Ignoring fixed y limits to fulfill fixed data aspect with adjustable data limits.\n"
          ]
        },
        {
          "name": "stdout",
          "output_type": "stream",
          "text": [
            "Posición del end-effector: [1.         1.07261316]\n",
            "Distancia al objetivo: 0.07261316321133449\n",
            "El end-effector más cercano es el del brazo: 0\n",
            "Posición del end-effector: [1.         1.07261316]\n",
            "Distancia al objetivo: 0.07261316253877514\n",
            "El end-effector más cercano es el del brazo: 0\n",
            "Posición del end-effector: [1.         1.07261316]\n",
            "Distancia al objetivo: 0.07261316200696344\n",
            "El end-effector más cercano es el del brazo: 0\n",
            "Posición del end-effector: [1.         1.07261316]\n",
            "Distancia al objetivo: 0.07261316158644382\n",
            "El end-effector más cercano es el del brazo: 0\n"
          ]
        },
        {
          "name": "stderr",
          "output_type": "stream",
          "text": [
            "Ignoring fixed y limits to fulfill fixed data aspect with adjustable data limits.\n",
            "Ignoring fixed y limits to fulfill fixed data aspect with adjustable data limits.\n"
          ]
        },
        {
          "name": "stdout",
          "output_type": "stream",
          "text": [
            "Posición del end-effector: [1.         1.07261316]\n",
            "Distancia al objetivo: 0.07261316125392692\n",
            "El end-effector más cercano es el del brazo: 0\n",
            "Posición del end-effector: [1.         1.07261316]\n",
            "Distancia al objetivo: 0.07261316099099702\n",
            "El end-effector más cercano es el del brazo: 0\n"
          ]
        },
        {
          "data": {
            "image/png": "[encoded data removed]",
            "text/plain": [
              "<Figure size 600x600 with 1 Axes>"
            ]
          },
          "metadata": {},
          "output_type": "display_data"
        },
        {
          "name": "stdout",
          "output_type": "stream",
          "text": [
            "GIF guardado como: animacion_robot6.gif\n"
          ]
        }
      ],
      "source": [
        "# Definición de los joints y objetivo\n",
        "art_padre = Robot(\"art_padre\", 2, angulo=0)\n",
        "#brazo 1\n",
        "art_1 = Robot(\"art_1\", 1, angulo=pi/2, padre=art_padre,  angulo_min = -pi, angulo_max = pi)\n",
        "art_2 = Robot(\"hola\", 0.6, angulo=-pi/4, padre=art_1, angulo_min = -2*pi/3, angulo_max = 2*pi/3)\n",
        "#brazo 2\n",
        "art_3 = Robot(\"art_3\", 1, angulo=-pi/2, padre=art_padre,  angulo_min = -pi, angulo_max = pi)\n",
        "art_4 = Robot(\"art_4\", 0.6, angulo=pi/4, padre=art_3,  angulo_min = -2*pi/3, angulo_max = 2*pi/3)\n",
        "\n",
        "joints = [art_padre, art_1, art_2, art_3, art_4]\n",
        "objetivo = np.array([1, 1])  # Define el objetivo deseado\n",
        "\n",
        "# Ejecutar la cinemática inversa con visualización en cada iteración\n",
        "cinemática_inversa(joints, objetivo, gif_filename=\"animacion_robot6.gif\")"
      ]
    },
    {
      "cell_type": "markdown",
      "metadata": {
        "id": "ZXeFEhBJD-hA"
      },
      "source": [
        "#prueba 7"
      ]
    },
    {
      "cell_type": "code",
      "execution_count": 15,
      "metadata": {
        "id": "hjtIkKZQD-hA",
        "outputId": "3101766f-d397-4738-f7bc-d5edc0af03a0"
      },
      "outputs": [
        {
          "name": "stderr",
          "output_type": "stream",
          "text": [
            "Ignoring fixed y limits to fulfill fixed data aspect with adjustable data limits.\n",
            "Ignoring fixed y limits to fulfill fixed data aspect with adjustable data limits.\n",
            "Ignoring fixed y limits to fulfill fixed data aspect with adjustable data limits.\n"
          ]
        },
        {
          "name": "stdout",
          "output_type": "stream",
          "text": [
            "Posición del end-effector: [0.21213203 0.21213203]\n",
            "Distancia al objetivo: 1.5097482665067639\n",
            "El end-effector más cercano es el del brazo: 0\n",
            "Posición del end-effector: [2.1616064  1.54421031]\n",
            "Distancia al objetivo: 1.1624474088392578\n",
            "El end-effector más cercano es el del brazo: 0\n",
            "Posición del end-effector: [1.01095779 2.13415549]\n",
            "Distancia al objetivo: 0.6342501549848265\n",
            "El end-effector más cercano es el del brazo: 0\n",
            "Posición del end-effector: [1.02713868 1.73696988]\n",
            "Distancia al objetivo: 0.23851883098351953\n",
            "El end-effector más cercano es el del brazo: 0\n"
          ]
        },
        {
          "name": "stderr",
          "output_type": "stream",
          "text": [
            "Ignoring fixed y limits to fulfill fixed data aspect with adjustable data limits.\n",
            "Ignoring fixed y limits to fulfill fixed data aspect with adjustable data limits.\n",
            "Ignoring fixed y limits to fulfill fixed data aspect with adjustable data limits.\n",
            "Ignoring fixed y limits to fulfill fixed data aspect with adjustable data limits.\n",
            "Ignoring fixed y limits to fulfill fixed data aspect with adjustable data limits.\n"
          ]
        },
        {
          "name": "stdout",
          "output_type": "stream",
          "text": [
            "Posición del end-effector: [0.91270377 1.51988011]\n",
            "Distancia al objetivo: 0.08953127884784585\n",
            "El end-effector más cercano es el del brazo: 0\n",
            "Posición del end-effector: [1.14208165 1.5530884 ]\n",
            "Distancia al objetivo: 0.15167587690883727\n",
            "El end-effector más cercano es el del brazo: 0\n",
            "Posición del end-effector: [0.9466083  1.44953852]\n",
            "Distancia al objetivo: 0.07346451410923872\n",
            "El end-effector más cercano es el del brazo: 0\n",
            "Posición del end-effector: [1.14122559 1.55776569]\n",
            "Distancia al objetivo: 0.15258290545674152\n",
            "El end-effector más cercano es el del brazo: 0\n"
          ]
        },
        {
          "name": "stderr",
          "output_type": "stream",
          "text": [
            "Ignoring fixed y limits to fulfill fixed data aspect with adjustable data limits.\n",
            "Ignoring fixed y limits to fulfill fixed data aspect with adjustable data limits.\n",
            "Ignoring fixed y limits to fulfill fixed data aspect with adjustable data limits.\n",
            "Ignoring fixed y limits to fulfill fixed data aspect with adjustable data limits.\n"
          ]
        },
        {
          "name": "stdout",
          "output_type": "stream",
          "text": [
            "Posición del end-effector: [0.96558857 1.4504263 ]\n",
            "Distancia al objetivo: 0.0603464853517255\n",
            "El end-effector más cercano es el del brazo: 0\n",
            "Posición del end-effector: [1.09489693 1.55443287]\n",
            "Distancia al objetivo: 0.10940002507528437\n",
            "El end-effector más cercano es el del brazo: 0\n",
            "Posición del end-effector: [0.98927352 1.47415583]\n",
            "Distancia al objetivo: 0.02798175341578044\n",
            "El end-effector más cercano es el del brazo: 0\n",
            "Posición del end-effector: [1.04519405 1.53566741]\n",
            "Distancia al objetivo: 0.05757313530096843\n",
            "El end-effector más cercano es el del brazo: 0\n",
            "Posición del end-effector: [1.003637  1.4960386]\n",
            "Distancia al objetivo: 0.005377775921519672\n",
            "El end-effector más cercano es el del brazo: 0\n",
            "Objetivo alcanzado en la iteración 12\n"
          ]
        },
        {
          "data": {
            "image/png": "[encoded data removed]",
            "text/plain": [
              "<Figure size 600x600 with 1 Axes>"
            ]
          },
          "metadata": {},
          "output_type": "display_data"
        },
        {
          "name": "stdout",
          "output_type": "stream",
          "text": [
            "GIF guardado como: animacion_robot7.gif\n"
          ]
        }
      ],
      "source": [
        "# Definición de los joints y objetivo\n",
        "art_padre = Robot(\"art_padre\", 2, angulo=0)\n",
        "#brazo 1\n",
        "art_1 = Robot(\"art_1\", 0.5, angulo=pi/2, padre=art_padre,  angulo_min = -pi, angulo_max = pi)\n",
        "art_2 = Robot(\"hola\", 0.3, angulo=-pi/4, padre=art_1, angulo_min = -2*pi/3, angulo_max = 2*pi/3)\n",
        "#brazo 2\n",
        "art_3 = Robot(\"art_3\", 0.5, angulo=-pi/2, padre=art_padre,  angulo_min = -pi, angulo_max = pi)\n",
        "art_4 = Robot(\"art_4\", 0.3, angulo=pi/4, padre=art_3,  angulo_min = -2*pi/3, angulo_max = 2*pi/3)\n",
        "\n",
        "joints = [art_padre, art_1, art_2, art_3, art_4]\n",
        "objetivo = np.array([1, 1.5])  # Define el objetivo deseado\n",
        "\n",
        "# Ejecutar la cinemática inversa con visualización en cada iteración\n",
        "cinemática_inversa(joints, objetivo, gif_filename=\"animacion_robot7.gif\")"
      ]
    },
    {
      "cell_type": "markdown",
      "metadata": {
        "id": "LX2Xu-gbD-hB"
      },
      "source": [
        "#prueba 8"
      ]
    },
    {
      "cell_type": "code",
      "execution_count": 16,
      "metadata": {
        "id": "NP7_PofgD-hB",
        "outputId": "de7a7b71-7c09-4aa0-e53a-e7068bd1f11d"
      },
      "outputs": [
        {
          "name": "stderr",
          "output_type": "stream",
          "text": [
            "Ignoring fixed y limits to fulfill fixed data aspect with adjustable data limits.\n",
            "Ignoring fixed y limits to fulfill fixed data aspect with adjustable data limits.\n",
            "Ignoring fixed y limits to fulfill fixed data aspect with adjustable data limits.\n",
            "Ignoring fixed y limits to fulfill fixed data aspect with adjustable data limits.\n",
            "Ignoring fixed y limits to fulfill fixed data aspect with adjustable data limits.\n"
          ]
        },
        {
          "name": "stdout",
          "output_type": "stream",
          "text": [
            "Posición del end-effector: [0.42426407 0.42426407]\n",
            "Distancia al objetivo: 1.9079181111925376\n",
            "El end-effector más cercano es el del brazo: 0\n",
            "Posición del end-effector: [1.42088935 1.97375862]\n",
            "Distancia al objetivo: 0.748208778730507\n",
            "El end-effector más cercano es el del brazo: 0\n",
            "Posición del end-effector: [1.95485595 0.91337407]\n",
            "Distancia al objetivo: 0.5883604078194281\n",
            "El end-effector más cercano es el del brazo: 0\n",
            "Posición del end-effector: [1.75374235 1.80040088]\n",
            "Distancia al objetivo: 0.38843727783905413\n",
            "El end-effector más cercano es el del brazo: 0\n",
            "Posición del end-effector: [2.01926098 1.27221035]\n",
            "Distancia al objetivo: 0.22860251169253218\n",
            "El end-effector más cercano es el del brazo: 0\n"
          ]
        },
        {
          "name": "stderr",
          "output_type": "stream",
          "text": [
            "Ignoring fixed y limits to fulfill fixed data aspect with adjustable data limits.\n",
            "Ignoring fixed y limits to fulfill fixed data aspect with adjustable data limits.\n",
            "Ignoring fixed y limits to fulfill fixed data aspect with adjustable data limits.\n"
          ]
        },
        {
          "name": "stdout",
          "output_type": "stream",
          "text": [
            "Posición del end-effector: [1.93946739 1.57665851]\n",
            "Distancia al objetivo: 0.09767662585976777\n",
            "El end-effector más cercano es el del brazo: 0\n",
            "Posición del end-effector: [2.0044577  1.44699147]\n",
            "Distancia al objetivo: 0.05319563133863914\n",
            "El end-effector más cercano es el del brazo: 0\n",
            "Posición del end-effector: [1.98801774 1.51031814]\n",
            "Distancia al objetivo: 0.015812606983911116\n",
            "El end-effector más cercano es el del brazo: 0\n",
            "Posición del end-effector: [1.99218591 1.49688645]\n",
            "Distancia al objetivo: 0.0084115456520154\n",
            "El end-effector más cercano es el del brazo: 0\n",
            "Objetivo alcanzado en la iteración 8\n"
          ]
        },
        {
          "data": {
            "image/png": "[encoded data removed]",
            "text/plain": [
              "<Figure size 600x600 with 1 Axes>"
            ]
          },
          "metadata": {},
          "output_type": "display_data"
        },
        {
          "name": "stdout",
          "output_type": "stream",
          "text": [
            "GIF guardado como: animacion_robot8.gif\n"
          ]
        }
      ],
      "source": [
        "# Definición de los joints y objetivo\n",
        "art_padre = Robot(\"art_padre\", 1, angulo=0)\n",
        "#brazo 1\n",
        "art_1 = Robot(\"art_1\", 1, angulo=pi/2, padre=art_padre,  angulo_min = -pi, angulo_max = pi)\n",
        "art_2 = Robot(\"hola\", 0.6, angulo=-pi/4, padre=art_1, angulo_min = -2*pi/3, angulo_max = 2*pi/3)\n",
        "#brazo 2\n",
        "art_3 = Robot(\"art_3\", 1, angulo=-pi/2, padre=art_padre,  angulo_min = -pi, angulo_max = pi)\n",
        "art_4 = Robot(\"art_4\", 0.6, angulo=pi/4, padre=art_3,  angulo_min = -2*pi/3, angulo_max = 2*pi/3)\n",
        "\n",
        "joints = [art_padre, art_1, art_2, art_3, art_4]\n",
        "objetivo = np.array([2, 1.5])  # Define el objetivo deseado\n",
        "\n",
        "# Ejecutar la cinemática inversa con visualización en cada iteración\n",
        "cinemática_inversa(joints, objetivo, gif_filename=\"animacion_robot8.gif\")"
      ]
    }
  ],
  "metadata": {
    "colab": {
      "provenance": []
    },
    "kernelspec": {
      "display_name": "baseq",
      "language": "python",
      "name": "python3"
    },
    "language_info": {
      "codemirror_mode": {
        "name": "ipython",
        "version": 3
      },
      "file_extension": ".py",
      "mimetype": "text/x-python",
      "name": "python",
      "nbconvert_exporter": "python",
      "pygments_lexer": "ipython3",
      "version": "3.10.15"
    }
  },
  "nbformat": 4,
  "nbformat_minor": 0
}
